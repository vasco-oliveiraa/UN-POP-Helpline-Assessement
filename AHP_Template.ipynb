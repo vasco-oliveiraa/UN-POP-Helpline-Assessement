{
 "cells": [
  {
   "cell_type": "code",
   "execution_count": 48,
   "id": "db7a9092-b34b-4a48-ac3d-74aeef8c05d9",
   "metadata": {},
   "outputs": [],
   "source": [
    "digital_channel = 3\n",
    "tech_stack = 4\n",
    "fundraise_strategy = 2\n",
    "confidentiality = 5\n",
    "responsiveness = 1\n",
    "quality_impact = 3\n",
    "staff_knowledge = 4\n",
    "cultural_linguistic_needs = 2\n",
    "age_appropriate_guidance = 5\n",
    "accessibility = 1\n",
    "\n",
    "user_scores = {\n",
    "        'digital_channel': digital_channel,\n",
    "        'tech_stack': tech_stack,\n",
    "        'fundraise_strategy': fundraise_strategy,\n",
    "        'confidentiality': confidentiality,\n",
    "        'responsiveness': responsiveness,\n",
    "        'quality_impact': quality_impact,\n",
    "        'staff_knowledge': staff_knowledge,\n",
    "        'cultural_linguistic_needs': cultural_linguistic_needs,\n",
    "        'age_appropriate_guidance': age_appropriate_guidance,\n",
    "        'accessibility': accessibility,\n",
    "}\n",
    "    \n",
    "weights_dict = {\n",
    "    'digital_channel': 0.12,\n",
    "    'tech_stack': 0.08,\n",
    "    'fundraise_strategy': 0.06,\n",
    "    'confidentiality': 0.10,\n",
    "    'responsiveness': 0.07,\n",
    "    'quality_impact': 0.13,\n",
    "    'staff_knowledge': 0.11,\n",
    "    'cultural_linguistic_needs': 0.09,\n",
    "    'age_appropriate_guidance': 0.10,\n",
    "    'accessibility': 0.14\n",
    "}\n",
    "\n",
    "user_scores_weighted = {}\n",
    "\n",
    "for key, value in user_scores.items():\n",
    "    weighted_score = value * weights_dict[key] / 5\n",
    "    user_scores_weighted[key] = weighted_score"
   ]
  },
  {
   "cell_type": "code",
   "execution_count": 49,
   "id": "e9978bf4-0e9c-49e1-9e03-cb411ac19efd",
   "metadata": {},
   "outputs": [
    {
     "data": {
      "text/plain": [
       "{'digital_channel': 0.072,\n",
       " 'tech_stack': 0.064,\n",
       " 'fundraise_strategy': 0.024,\n",
       " 'confidentiality': 0.1,\n",
       " 'responsiveness': 0.014000000000000002,\n",
       " 'quality_impact': 0.078,\n",
       " 'staff_knowledge': 0.088,\n",
       " 'cultural_linguistic_needs': 0.036,\n",
       " 'age_appropriate_guidance': 0.1,\n",
       " 'accessibility': 0.028000000000000004}"
      ]
     },
     "execution_count": 49,
     "metadata": {},
     "output_type": "execute_result"
    }
   ],
   "source": [
    "user_scores_weighted"
   ]
  },
  {
   "cell_type": "code",
   "execution_count": 39,
   "id": "bb7dee1d-ca50-49e2-8422-df0927adc0bc",
   "metadata": {},
   "outputs": [],
   "source": [
    "final_score = round(sum(user_scores_weighted.values())*100,2)"
   ]
  },
  {
   "cell_type": "code",
   "execution_count": 40,
   "id": "3c01b555-072f-4d59-8981-79567b7c0e4f",
   "metadata": {},
   "outputs": [
    {
     "data": {
      "text/plain": [
       "{'digital_channel': 3,\n",
       " 'tech_stack': 4,\n",
       " 'fundraise_strategy': 2,\n",
       " 'confidentiality': 5,\n",
       " 'responsiveness': 1,\n",
       " 'quality_impact': 3,\n",
       " 'staff_knowledge': 4,\n",
       " 'cultural_linguistic_needs': 2,\n",
       " 'age_appropriate_guidance': 5,\n",
       " 'accessibility': 1}"
      ]
     },
     "execution_count": 40,
     "metadata": {},
     "output_type": "execute_result"
    }
   ],
   "source": [
    "user_scores"
   ]
  },
  {
   "cell_type": "code",
   "execution_count": 36,
   "id": "7ed6853b-b4c7-46d9-9da6-7d52581a94bc",
   "metadata": {},
   "outputs": [
    {
     "data": {
      "text/plain": [
       "{'digital_channel': 6,\n",
       " 'tech_stack': 8,\n",
       " 'fundraise_strategy': 4,\n",
       " 'confidentiality': 10,\n",
       " 'responsiveness': 2,\n",
       " 'quality_impact': 6,\n",
       " 'staff_knowledge': 8,\n",
       " 'cultural_linguistic_needs': 4,\n",
       " 'age_appropriate_guidance': 10,\n",
       " 'accessibility': 2}"
      ]
     },
     "execution_count": 36,
     "metadata": {},
     "output_type": "execute_result"
    }
   ],
   "source": [
    "user_scores"
   ]
  },
  {
   "cell_type": "code",
   "execution_count": 13,
   "id": "a4eb6050-449e-4d23-b574-688d42d43504",
   "metadata": {},
   "outputs": [
    {
     "data": {
      "text/plain": [
       "60.4"
      ]
     },
     "execution_count": 13,
     "metadata": {},
     "output_type": "execute_result"
    }
   ],
   "source": [
    "final_score"
   ]
  },
  {
   "cell_type": "code",
   "execution_count": null,
   "id": "c947f58a-0bad-4ef2-88d1-0bc5020135cc",
   "metadata": {},
   "outputs": [
    {
     "data": {
      "application/vnd.plotly.v1+json": {
       "config": {
        "plotlyServerURL": "https://plot.ly"
       },
       "data": [
        {
         "fill": "toself",
         "r": [
          6,
          8,
          4,
          10,
          2,
          6,
          8,
          4,
          10,
          2
         ],
         "theta": [
          "Digital Channel",
          "Tech Stack",
          "Fundraise Strategy",
          "Confidentiality",
          "Responsiveness",
          "Quality Impact",
          "Staff Knowledge",
          "Cultural Linguistic Needs",
          "Age Appropriate Guidance",
          "Accessibility"
         ],
         "type": "scatterpolar"
        }
       ],
       "layout": {
        "autosize": true,
        "polar": {
         "angularaxis": {
          "type": "category"
         },
         "radialaxis": {
          "autorange": false,
          "range": [
           0,
           10
          ],
          "type": "linear",
          "visible": false
         }
        },
        "template": {
         "data": {
          "bar": [
           {
            "error_x": {
             "color": "#2a3f5f"
            },
            "error_y": {
             "color": "#2a3f5f"
            },
            "marker": {
             "line": {
              "color": "#E5ECF6",
              "width": 0.5
             },
             "pattern": {
              "fillmode": "overlay",
              "size": 10,
              "solidity": 0.2
             }
            },
            "type": "bar"
           }
          ],
          "barpolar": [
           {
            "marker": {
             "line": {
              "color": "#E5ECF6",
              "width": 0.5
             },
             "pattern": {
              "fillmode": "overlay",
              "size": 10,
              "solidity": 0.2
             }
            },
            "type": "barpolar"
           }
          ],
          "carpet": [
           {
            "aaxis": {
             "endlinecolor": "#2a3f5f",
             "gridcolor": "white",
             "linecolor": "white",
             "minorgridcolor": "white",
             "startlinecolor": "#2a3f5f"
            },
            "baxis": {
             "endlinecolor": "#2a3f5f",
             "gridcolor": "white",
             "linecolor": "white",
             "minorgridcolor": "white",
             "startlinecolor": "#2a3f5f"
            },
            "type": "carpet"
           }
          ],
          "choropleth": [
           {
            "colorbar": {
             "outlinewidth": 0,
             "ticks": ""
            },
            "type": "choropleth"
           }
          ],
          "contour": [
           {
            "colorbar": {
             "outlinewidth": 0,
             "ticks": ""
            },
            "colorscale": [
             [
              0,
              "#0d0887"
             ],
             [
              0.1111111111111111,
              "#46039f"
             ],
             [
              0.2222222222222222,
              "#7201a8"
             ],
             [
              0.3333333333333333,
              "#9c179e"
             ],
             [
              0.4444444444444444,
              "#bd3786"
             ],
             [
              0.5555555555555556,
              "#d8576b"
             ],
             [
              0.6666666666666666,
              "#ed7953"
             ],
             [
              0.7777777777777778,
              "#fb9f3a"
             ],
             [
              0.8888888888888888,
              "#fdca26"
             ],
             [
              1,
              "#f0f921"
             ]
            ],
            "type": "contour"
           }
          ],
          "contourcarpet": [
           {
            "colorbar": {
             "outlinewidth": 0,
             "ticks": ""
            },
            "type": "contourcarpet"
           }
          ],
          "heatmap": [
           {
            "colorbar": {
             "outlinewidth": 0,
             "ticks": ""
            },
            "colorscale": [
             [
              0,
              "#0d0887"
             ],
             [
              0.1111111111111111,
              "#46039f"
             ],
             [
              0.2222222222222222,
              "#7201a8"
             ],
             [
              0.3333333333333333,
              "#9c179e"
             ],
             [
              0.4444444444444444,
              "#bd3786"
             ],
             [
              0.5555555555555556,
              "#d8576b"
             ],
             [
              0.6666666666666666,
              "#ed7953"
             ],
             [
              0.7777777777777778,
              "#fb9f3a"
             ],
             [
              0.8888888888888888,
              "#fdca26"
             ],
             [
              1,
              "#f0f921"
             ]
            ],
            "type": "heatmap"
           }
          ],
          "heatmapgl": [
           {
            "colorbar": {
             "outlinewidth": 0,
             "ticks": ""
            },
            "colorscale": [
             [
              0,
              "#0d0887"
             ],
             [
              0.1111111111111111,
              "#46039f"
             ],
             [
              0.2222222222222222,
              "#7201a8"
             ],
             [
              0.3333333333333333,
              "#9c179e"
             ],
             [
              0.4444444444444444,
              "#bd3786"
             ],
             [
              0.5555555555555556,
              "#d8576b"
             ],
             [
              0.6666666666666666,
              "#ed7953"
             ],
             [
              0.7777777777777778,
              "#fb9f3a"
             ],
             [
              0.8888888888888888,
              "#fdca26"
             ],
             [
              1,
              "#f0f921"
             ]
            ],
            "type": "heatmapgl"
           }
          ],
          "histogram": [
           {
            "marker": {
             "pattern": {
              "fillmode": "overlay",
              "size": 10,
              "solidity": 0.2
             }
            },
            "type": "histogram"
           }
          ],
          "histogram2d": [
           {
            "colorbar": {
             "outlinewidth": 0,
             "ticks": ""
            },
            "colorscale": [
             [
              0,
              "#0d0887"
             ],
             [
              0.1111111111111111,
              "#46039f"
             ],
             [
              0.2222222222222222,
              "#7201a8"
             ],
             [
              0.3333333333333333,
              "#9c179e"
             ],
             [
              0.4444444444444444,
              "#bd3786"
             ],
             [
              0.5555555555555556,
              "#d8576b"
             ],
             [
              0.6666666666666666,
              "#ed7953"
             ],
             [
              0.7777777777777778,
              "#fb9f3a"
             ],
             [
              0.8888888888888888,
              "#fdca26"
             ],
             [
              1,
              "#f0f921"
             ]
            ],
            "type": "histogram2d"
           }
          ],
          "histogram2dcontour": [
           {
            "colorbar": {
             "outlinewidth": 0,
             "ticks": ""
            },
            "colorscale": [
             [
              0,
              "#0d0887"
             ],
             [
              0.1111111111111111,
              "#46039f"
             ],
             [
              0.2222222222222222,
              "#7201a8"
             ],
             [
              0.3333333333333333,
              "#9c179e"
             ],
             [
              0.4444444444444444,
              "#bd3786"
             ],
             [
              0.5555555555555556,
              "#d8576b"
             ],
             [
              0.6666666666666666,
              "#ed7953"
             ],
             [
              0.7777777777777778,
              "#fb9f3a"
             ],
             [
              0.8888888888888888,
              "#fdca26"
             ],
             [
              1,
              "#f0f921"
             ]
            ],
            "type": "histogram2dcontour"
           }
          ],
          "mesh3d": [
           {
            "colorbar": {
             "outlinewidth": 0,
             "ticks": ""
            },
            "type": "mesh3d"
           }
          ],
          "parcoords": [
           {
            "line": {
             "colorbar": {
              "outlinewidth": 0,
              "ticks": ""
             }
            },
            "type": "parcoords"
           }
          ],
          "pie": [
           {
            "automargin": true,
            "type": "pie"
           }
          ],
          "scatter": [
           {
            "fillpattern": {
             "fillmode": "overlay",
             "size": 10,
             "solidity": 0.2
            },
            "type": "scatter"
           }
          ],
          "scatter3d": [
           {
            "line": {
             "colorbar": {
              "outlinewidth": 0,
              "ticks": ""
             }
            },
            "marker": {
             "colorbar": {
              "outlinewidth": 0,
              "ticks": ""
             }
            },
            "type": "scatter3d"
           }
          ],
          "scattercarpet": [
           {
            "marker": {
             "colorbar": {
              "outlinewidth": 0,
              "ticks": ""
             }
            },
            "type": "scattercarpet"
           }
          ],
          "scattergeo": [
           {
            "marker": {
             "colorbar": {
              "outlinewidth": 0,
              "ticks": ""
             }
            },
            "type": "scattergeo"
           }
          ],
          "scattergl": [
           {
            "marker": {
             "colorbar": {
              "outlinewidth": 0,
              "ticks": ""
             }
            },
            "type": "scattergl"
           }
          ],
          "scattermapbox": [
           {
            "marker": {
             "colorbar": {
              "outlinewidth": 0,
              "ticks": ""
             }
            },
            "type": "scattermapbox"
           }
          ],
          "scatterpolar": [
           {
            "marker": {
             "colorbar": {
              "outlinewidth": 0,
              "ticks": ""
             }
            },
            "type": "scatterpolar"
           }
          ],
          "scatterpolargl": [
           {
            "marker": {
             "colorbar": {
              "outlinewidth": 0,
              "ticks": ""
             }
            },
            "type": "scatterpolargl"
           }
          ],
          "scatterternary": [
           {
            "marker": {
             "colorbar": {
              "outlinewidth": 0,
              "ticks": ""
             }
            },
            "type": "scatterternary"
           }
          ],
          "surface": [
           {
            "colorbar": {
             "outlinewidth": 0,
             "ticks": ""
            },
            "colorscale": [
             [
              0,
              "#0d0887"
             ],
             [
              0.1111111111111111,
              "#46039f"
             ],
             [
              0.2222222222222222,
              "#7201a8"
             ],
             [
              0.3333333333333333,
              "#9c179e"
             ],
             [
              0.4444444444444444,
              "#bd3786"
             ],
             [
              0.5555555555555556,
              "#d8576b"
             ],
             [
              0.6666666666666666,
              "#ed7953"
             ],
             [
              0.7777777777777778,
              "#fb9f3a"
             ],
             [
              0.8888888888888888,
              "#fdca26"
             ],
             [
              1,
              "#f0f921"
             ]
            ],
            "type": "surface"
           }
          ],
          "table": [
           {
            "cells": {
             "fill": {
              "color": "#EBF0F8"
             },
             "line": {
              "color": "white"
             }
            },
            "header": {
             "fill": {
              "color": "#C8D4E3"
             },
             "line": {
              "color": "white"
             }
            },
            "type": "table"
           }
          ]
         },
         "layout": {
          "annotationdefaults": {
           "arrowcolor": "#2a3f5f",
           "arrowhead": 0,
           "arrowwidth": 1
          },
          "autotypenumbers": "strict",
          "coloraxis": {
           "colorbar": {
            "outlinewidth": 0,
            "ticks": ""
           }
          },
          "colorscale": {
           "diverging": [
            [
             0,
             "#8e0152"
            ],
            [
             0.1,
             "#c51b7d"
            ],
            [
             0.2,
             "#de77ae"
            ],
            [
             0.3,
             "#f1b6da"
            ],
            [
             0.4,
             "#fde0ef"
            ],
            [
             0.5,
             "#f7f7f7"
            ],
            [
             0.6,
             "#e6f5d0"
            ],
            [
             0.7,
             "#b8e186"
            ],
            [
             0.8,
             "#7fbc41"
            ],
            [
             0.9,
             "#4d9221"
            ],
            [
             1,
             "#276419"
            ]
           ],
           "sequential": [
            [
             0,
             "#0d0887"
            ],
            [
             0.1111111111111111,
             "#46039f"
            ],
            [
             0.2222222222222222,
             "#7201a8"
            ],
            [
             0.3333333333333333,
             "#9c179e"
            ],
            [
             0.4444444444444444,
             "#bd3786"
            ],
            [
             0.5555555555555556,
             "#d8576b"
            ],
            [
             0.6666666666666666,
             "#ed7953"
            ],
            [
             0.7777777777777778,
             "#fb9f3a"
            ],
            [
             0.8888888888888888,
             "#fdca26"
            ],
            [
             1,
             "#f0f921"
            ]
           ],
           "sequentialminus": [
            [
             0,
             "#0d0887"
            ],
            [
             0.1111111111111111,
             "#46039f"
            ],
            [
             0.2222222222222222,
             "#7201a8"
            ],
            [
             0.3333333333333333,
             "#9c179e"
            ],
            [
             0.4444444444444444,
             "#bd3786"
            ],
            [
             0.5555555555555556,
             "#d8576b"
            ],
            [
             0.6666666666666666,
             "#ed7953"
            ],
            [
             0.7777777777777778,
             "#fb9f3a"
            ],
            [
             0.8888888888888888,
             "#fdca26"
            ],
            [
             1,
             "#f0f921"
            ]
           ]
          },
          "colorway": [
           "#636efa",
           "#EF553B",
           "#00cc96",
           "#ab63fa",
           "#FFA15A",
           "#19d3f3",
           "#FF6692",
           "#B6E880",
           "#FF97FF",
           "#FECB52"
          ],
          "font": {
           "color": "#2a3f5f"
          },
          "geo": {
           "bgcolor": "white",
           "lakecolor": "white",
           "landcolor": "#E5ECF6",
           "showlakes": true,
           "showland": true,
           "subunitcolor": "white"
          },
          "hoverlabel": {
           "align": "left"
          },
          "hovermode": "closest",
          "mapbox": {
           "style": "light"
          },
          "paper_bgcolor": "white",
          "plot_bgcolor": "#E5ECF6",
          "polar": {
           "angularaxis": {
            "gridcolor": "white",
            "linecolor": "white",
            "ticks": ""
           },
           "bgcolor": "#E5ECF6",
           "radialaxis": {
            "gridcolor": "white",
            "linecolor": "white",
            "ticks": ""
           }
          },
          "scene": {
           "xaxis": {
            "backgroundcolor": "#E5ECF6",
            "gridcolor": "white",
            "gridwidth": 2,
            "linecolor": "white",
            "showbackground": true,
            "ticks": "",
            "zerolinecolor": "white"
           },
           "yaxis": {
            "backgroundcolor": "#E5ECF6",
            "gridcolor": "white",
            "gridwidth": 2,
            "linecolor": "white",
            "showbackground": true,
            "ticks": "",
            "zerolinecolor": "white"
           },
           "zaxis": {
            "backgroundcolor": "#E5ECF6",
            "gridcolor": "white",
            "gridwidth": 2,
            "linecolor": "white",
            "showbackground": true,
            "ticks": "",
            "zerolinecolor": "white"
           }
          },
          "shapedefaults": {
           "line": {
            "color": "#2a3f5f"
           }
          },
          "ternary": {
           "aaxis": {
            "gridcolor": "white",
            "linecolor": "white",
            "ticks": ""
           },
           "baxis": {
            "gridcolor": "white",
            "linecolor": "white",
            "ticks": ""
           },
           "bgcolor": "#E5ECF6",
           "caxis": {
            "gridcolor": "white",
            "linecolor": "white",
            "ticks": ""
           }
          },
          "title": {
           "x": 0.05
          },
          "xaxis": {
           "automargin": true,
           "gridcolor": "white",
           "linecolor": "white",
           "ticks": "",
           "title": {
            "standoff": 15
           },
           "zerolinecolor": "white",
           "zerolinewidth": 2
          },
          "yaxis": {
           "automargin": true,
           "gridcolor": "white",
           "linecolor": "white",
           "ticks": "",
           "title": {
            "standoff": 15
           },
           "zerolinecolor": "white",
           "zerolinewidth": 2
          }
         }
        }
       }
      },
      "image/png": "[encoded data removed]",
      "text/html": [
       "<div>                            <div id=\"8e34bc6c-ea60-44ff-9b9e-d214695f5057\" class=\"plotly-graph-div\" style=\"height:525px; width:100%;\"></div>            <script type=\"text/javascript\">                require([\"plotly\"], function(Plotly) {                    window.PLOTLYENV=window.PLOTLYENV || {};                                    if (document.getElementById(\"8e34bc6c-ea60-44ff-9b9e-d214695f5057\")) {                    Plotly.newPlot(                        \"8e34bc6c-ea60-44ff-9b9e-d214695f5057\",                        [{\"fill\":\"toself\",\"r\":[6,8,4,10,2,6,8,4,10,2],\"theta\":[\"Digital Channel\",\"Tech Stack\",\"Fundraise Strategy\",\"Confidentiality\",\"Responsiveness\",\"Quality Impact\",\"Staff Knowledge\",\"Cultural Linguistic Needs\",\"Age Appropriate Guidance\",\"Accessibility\"],\"type\":\"scatterpolar\"}],                        {\"template\":{\"data\":{\"histogram2dcontour\":[{\"type\":\"histogram2dcontour\",\"colorbar\":{\"outlinewidth\":0,\"ticks\":\"\"},\"colorscale\":[[0.0,\"#0d0887\"],[0.1111111111111111,\"#46039f\"],[0.2222222222222222,\"#7201a8\"],[0.3333333333333333,\"#9c179e\"],[0.4444444444444444,\"#bd3786\"],[0.5555555555555556,\"#d8576b\"],[0.6666666666666666,\"#ed7953\"],[0.7777777777777778,\"#fb9f3a\"],[0.8888888888888888,\"#fdca26\"],[1.0,\"#f0f921\"]]}],\"choropleth\":[{\"type\":\"choropleth\",\"colorbar\":{\"outlinewidth\":0,\"ticks\":\"\"}}],\"histogram2d\":[{\"type\":\"histogram2d\",\"colorbar\":{\"outlinewidth\":0,\"ticks\":\"\"},\"colorscale\":[[0.0,\"#0d0887\"],[0.1111111111111111,\"#46039f\"],[0.2222222222222222,\"#7201a8\"],[0.3333333333333333,\"#9c179e\"],[0.4444444444444444,\"#bd3786\"],[0.5555555555555556,\"#d8576b\"],[0.6666666666666666,\"#ed7953\"],[0.7777777777777778,\"#fb9f3a\"],[0.8888888888888888,\"#fdca26\"],[1.0,\"#f0f921\"]]}],\"heatmap\":[{\"type\":\"heatmap\",\"colorbar\":{\"outlinewidth\":0,\"ticks\":\"\"},\"colorscale\":[[0.0,\"#0d0887\"],[0.1111111111111111,\"#46039f\"],[0.2222222222222222,\"#7201a8\"],[0.3333333333333333,\"#9c179e\"],[0.4444444444444444,\"#bd3786\"],[0.5555555555555556,\"#d8576b\"],[0.6666666666666666,\"#ed7953\"],[0.7777777777777778,\"#fb9f3a\"],[0.8888888888888888,\"#fdca26\"],[1.0,\"#f0f921\"]]}],\"heatmapgl\":[{\"type\":\"heatmapgl\",\"colorbar\":{\"outlinewidth\":0,\"ticks\":\"\"},\"colorscale\":[[0.0,\"#0d0887\"],[0.1111111111111111,\"#46039f\"],[0.2222222222222222,\"#7201a8\"],[0.3333333333333333,\"#9c179e\"],[0.4444444444444444,\"#bd3786\"],[0.5555555555555556,\"#d8576b\"],[0.6666666666666666,\"#ed7953\"],[0.7777777777777778,\"#fb9f3a\"],[0.8888888888888888,\"#fdca26\"],[1.0,\"#f0f921\"]]}],\"contourcarpet\":[{\"type\":\"contourcarpet\",\"colorbar\":{\"outlinewidth\":0,\"ticks\":\"\"}}],\"contour\":[{\"type\":\"contour\",\"colorbar\":{\"outlinewidth\":0,\"ticks\":\"\"},\"colorscale\":[[0.0,\"#0d0887\"],[0.1111111111111111,\"#46039f\"],[0.2222222222222222,\"#7201a8\"],[0.3333333333333333,\"#9c179e\"],[0.4444444444444444,\"#bd3786\"],[0.5555555555555556,\"#d8576b\"],[0.6666666666666666,\"#ed7953\"],[0.7777777777777778,\"#fb9f3a\"],[0.8888888888888888,\"#fdca26\"],[1.0,\"#f0f921\"]]}],\"surface\":[{\"type\":\"surface\",\"colorbar\":{\"outlinewidth\":0,\"ticks\":\"\"},\"colorscale\":[[0.0,\"#0d0887\"],[0.1111111111111111,\"#46039f\"],[0.2222222222222222,\"#7201a8\"],[0.3333333333333333,\"#9c179e\"],[0.4444444444444444,\"#bd3786\"],[0.5555555555555556,\"#d8576b\"],[0.6666666666666666,\"#ed7953\"],[0.7777777777777778,\"#fb9f3a\"],[0.8888888888888888,\"#fdca26\"],[1.0,\"#f0f921\"]]}],\"mesh3d\":[{\"type\":\"mesh3d\",\"colorbar\":{\"outlinewidth\":0,\"ticks\":\"\"}}],\"scatter\":[{\"fillpattern\":{\"fillmode\":\"overlay\",\"size\":10,\"solidity\":0.2},\"type\":\"scatter\"}],\"parcoords\":[{\"type\":\"parcoords\",\"line\":{\"colorbar\":{\"outlinewidth\":0,\"ticks\":\"\"}}}],\"scatterpolargl\":[{\"type\":\"scatterpolargl\",\"marker\":{\"colorbar\":{\"outlinewidth\":0,\"ticks\":\"\"}}}],\"bar\":[{\"error_x\":{\"color\":\"#2a3f5f\"},\"error_y\":{\"color\":\"#2a3f5f\"},\"marker\":{\"line\":{\"color\":\"#E5ECF6\",\"width\":0.5},\"pattern\":{\"fillmode\":\"overlay\",\"size\":10,\"solidity\":0.2}},\"type\":\"bar\"}],\"scattergeo\":[{\"type\":\"scattergeo\",\"marker\":{\"colorbar\":{\"outlinewidth\":0,\"ticks\":\"\"}}}],\"scatterpolar\":[{\"type\":\"scatterpolar\",\"marker\":{\"colorbar\":{\"outlinewidth\":0,\"ticks\":\"\"}}}],\"histogram\":[{\"marker\":{\"pattern\":{\"fillmode\":\"overlay\",\"size\":10,\"solidity\":0.2}},\"type\":\"histogram\"}],\"scattergl\":[{\"type\":\"scattergl\",\"marker\":{\"colorbar\":{\"outlinewidth\":0,\"ticks\":\"\"}}}],\"scatter3d\":[{\"type\":\"scatter3d\",\"line\":{\"colorbar\":{\"outlinewidth\":0,\"ticks\":\"\"}},\"marker\":{\"colorbar\":{\"outlinewidth\":0,\"ticks\":\"\"}}}],\"scattermapbox\":[{\"type\":\"scattermapbox\",\"marker\":{\"colorbar\":{\"outlinewidth\":0,\"ticks\":\"\"}}}],\"scatterternary\":[{\"type\":\"scatterternary\",\"marker\":{\"colorbar\":{\"outlinewidth\":0,\"ticks\":\"\"}}}],\"scattercarpet\":[{\"type\":\"scattercarpet\",\"marker\":{\"colorbar\":{\"outlinewidth\":0,\"ticks\":\"\"}}}],\"carpet\":[{\"aaxis\":{\"endlinecolor\":\"#2a3f5f\",\"gridcolor\":\"white\",\"linecolor\":\"white\",\"minorgridcolor\":\"white\",\"startlinecolor\":\"#2a3f5f\"},\"baxis\":{\"endlinecolor\":\"#2a3f5f\",\"gridcolor\":\"white\",\"linecolor\":\"white\",\"minorgridcolor\":\"white\",\"startlinecolor\":\"#2a3f5f\"},\"type\":\"carpet\"}],\"table\":[{\"cells\":{\"fill\":{\"color\":\"#EBF0F8\"},\"line\":{\"color\":\"white\"}},\"header\":{\"fill\":{\"color\":\"#C8D4E3\"},\"line\":{\"color\":\"white\"}},\"type\":\"table\"}],\"barpolar\":[{\"marker\":{\"line\":{\"color\":\"#E5ECF6\",\"width\":0.5},\"pattern\":{\"fillmode\":\"overlay\",\"size\":10,\"solidity\":0.2}},\"type\":\"barpolar\"}],\"pie\":[{\"automargin\":true,\"type\":\"pie\"}]},\"layout\":{\"autotypenumbers\":\"strict\",\"colorway\":[\"#636efa\",\"#EF553B\",\"#00cc96\",\"#ab63fa\",\"#FFA15A\",\"#19d3f3\",\"#FF6692\",\"#B6E880\",\"#FF97FF\",\"#FECB52\"],\"font\":{\"color\":\"#2a3f5f\"},\"hovermode\":\"closest\",\"hoverlabel\":{\"align\":\"left\"},\"paper_bgcolor\":\"white\",\"plot_bgcolor\":\"#E5ECF6\",\"polar\":{\"bgcolor\":\"#E5ECF6\",\"angularaxis\":{\"gridcolor\":\"white\",\"linecolor\":\"white\",\"ticks\":\"\"},\"radialaxis\":{\"gridcolor\":\"white\",\"linecolor\":\"white\",\"ticks\":\"\"}},\"ternary\":{\"bgcolor\":\"#E5ECF6\",\"aaxis\":{\"gridcolor\":\"white\",\"linecolor\":\"white\",\"ticks\":\"\"},\"baxis\":{\"gridcolor\":\"white\",\"linecolor\":\"white\",\"ticks\":\"\"},\"caxis\":{\"gridcolor\":\"white\",\"linecolor\":\"white\",\"ticks\":\"\"}},\"coloraxis\":{\"colorbar\":{\"outlinewidth\":0,\"ticks\":\"\"}},\"colorscale\":{\"sequential\":[[0.0,\"#0d0887\"],[0.1111111111111111,\"#46039f\"],[0.2222222222222222,\"#7201a8\"],[0.3333333333333333,\"#9c179e\"],[0.4444444444444444,\"#bd3786\"],[0.5555555555555556,\"#d8576b\"],[0.6666666666666666,\"#ed7953\"],[0.7777777777777778,\"#fb9f3a\"],[0.8888888888888888,\"#fdca26\"],[1.0,\"#f0f921\"]],\"sequentialminus\":[[0.0,\"#0d0887\"],[0.1111111111111111,\"#46039f\"],[0.2222222222222222,\"#7201a8\"],[0.3333333333333333,\"#9c179e\"],[0.4444444444444444,\"#bd3786\"],[0.5555555555555556,\"#d8576b\"],[0.6666666666666666,\"#ed7953\"],[0.7777777777777778,\"#fb9f3a\"],[0.8888888888888888,\"#fdca26\"],[1.0,\"#f0f921\"]],\"diverging\":[[0,\"#8e0152\"],[0.1,\"#c51b7d\"],[0.2,\"#de77ae\"],[0.3,\"#f1b6da\"],[0.4,\"#fde0ef\"],[0.5,\"#f7f7f7\"],[0.6,\"#e6f5d0\"],[0.7,\"#b8e186\"],[0.8,\"#7fbc41\"],[0.9,\"#4d9221\"],[1,\"#276419\"]]},\"xaxis\":{\"gridcolor\":\"white\",\"linecolor\":\"white\",\"ticks\":\"\",\"title\":{\"standoff\":15},\"zerolinecolor\":\"white\",\"automargin\":true,\"zerolinewidth\":2},\"yaxis\":{\"gridcolor\":\"white\",\"linecolor\":\"white\",\"ticks\":\"\",\"title\":{\"standoff\":15},\"zerolinecolor\":\"white\",\"automargin\":true,\"zerolinewidth\":2},\"scene\":{\"xaxis\":{\"backgroundcolor\":\"#E5ECF6\",\"gridcolor\":\"white\",\"linecolor\":\"white\",\"showbackground\":true,\"ticks\":\"\",\"zerolinecolor\":\"white\",\"gridwidth\":2},\"yaxis\":{\"backgroundcolor\":\"#E5ECF6\",\"gridcolor\":\"white\",\"linecolor\":\"white\",\"showbackground\":true,\"ticks\":\"\",\"zerolinecolor\":\"white\",\"gridwidth\":2},\"zaxis\":{\"backgroundcolor\":\"#E5ECF6\",\"gridcolor\":\"white\",\"linecolor\":\"white\",\"showbackground\":true,\"ticks\":\"\",\"zerolinecolor\":\"white\",\"gridwidth\":2}},\"shapedefaults\":{\"line\":{\"color\":\"#2a3f5f\"}},\"annotationdefaults\":{\"arrowcolor\":\"#2a3f5f\",\"arrowhead\":0,\"arrowwidth\":1},\"geo\":{\"bgcolor\":\"white\",\"landcolor\":\"#E5ECF6\",\"subunitcolor\":\"white\",\"showland\":true,\"showlakes\":true,\"lakecolor\":\"white\"},\"title\":{\"x\":0.05},\"mapbox\":{\"style\":\"light\"}}},\"polar\":{\"radialaxis\":{\"range\":[0,10],\"visible\":false}}},                        {\"responsive\": true}                    ).then(function(){\n",
       "                            \n",
       "var gd = document.getElementById('8e34bc6c-ea60-44ff-9b9e-d214695f5057');\n",
       "var x = new MutationObserver(function (mutations, observer) {{\n",
       "        var display = window.getComputedStyle(gd).display;\n",
       "        if (!display || display === 'none') {{\n",
       "            console.log([gd, 'removed!']);\n",
       "            Plotly.purge(gd);\n",
       "            observer.disconnect();\n",
       "        }}\n",
       "}});\n",
       "\n",
       "// Listen for the removal of the full notebook cells\n",
       "var notebookContainer = gd.closest('#notebook-container');\n",
       "if (notebookContainer) {{\n",
       "    x.observe(notebookContainer, {childList: true});\n",
       "}}\n",
       "\n",
       "// Listen for the clearing of the current output cell\n",
       "var outputEl = gd.closest('.output');\n",
       "if (outputEl) {{\n",
       "    x.observe(outputEl, {childList: true});\n",
       "}}\n",
       "\n",
       "                        })                };                });            </script>        </div>"
      ]
     },
     "metadata": {},
     "output_type": "display_data"
    }
   ],
   "source": [
    "import plotly.graph_objects as go\n",
    "\n",
    "data = {\n",
    "    'digital_channel': 6,\n",
    "     'tech_stack': 8,\n",
    "     'fundraise_strategy': 4,\n",
    "     'confidentiality': 10,\n",
    "     'responsiveness': 2,\n",
    "     'quality_impact': 6,\n",
    "     'staff_knowledge': 8,\n",
    "     'cultural_linguistic_needs': 4,\n",
    "     'age_appropriate_guidance': 10,\n",
    "     'accessibility': 2\n",
    "}\n",
    "\n",
    "labels = [label.replace('_', ' ').title() for label in data.keys()]\n",
    "values = list(data.values())\n",
    "\n",
    "layout = go.Layout(\n",
    "    polar=dict(\n",
    "        radialaxis=dict(\n",
    "            visible=False,\n",
    "            range=[0, 10]  # Set the range according to your data values\n",
    "        )\n",
    "    )\n",
    ")\n",
    "\n",
    "fig = go.Figure(data=go.Scatterpolar(\n",
    "    r=values,\n",
    "    theta=labels,\n",
    "    fill='toself'\n",
    "))\n",
    "\n",
    "fig.update_layout(layout)\n",
    "fig.show()"
   ]
  },
  {
   "cell_type": "code",
   "execution_count": 44,
   "id": "3f2ee60d-df3b-4a75-9253-74311061175f",
   "metadata": {},
   "outputs": [
    {
     "data": {
      "text/plain": [
       "{'digital_channel': 0.036,\n",
       " 'tech_stack': 0.032,\n",
       " 'fundraise_strategy': 0.012,\n",
       " 'confidentiality': 0.05,\n",
       " 'responsiveness': 0.007000000000000001,\n",
       " 'quality_impact': 0.039,\n",
       " 'staff_knowledge': 0.044,\n",
       " 'cultural_linguistic_needs': 0.018,\n",
       " 'age_appropriate_guidance': 0.05,\n",
       " 'accessibility': 0.014000000000000002}"
      ]
     },
     "execution_count": 44,
     "metadata": {},
     "output_type": "execute_result"
    }
   ],
   "source": [
    "user_scores_weighted"
   ]
  },
  {
   "cell_type": "code",
   "execution_count": 51,
   "id": "69d09e7b-98a6-40ff-8988-c04ffcc791e1",
   "metadata": {},
   "outputs": [
    {
     "data": {
      "application/vnd.plotly.v1+json": {
       "config": {
        "plotlyServerURL": "https://plot.ly"
       },
       "data": [
        {
         "fill": "toself",
         "name": "User Inputs",
         "r": [
          0.072,
          0.064,
          0.024,
          0.1,
          0.014000000000000002,
          0.078,
          0.088,
          0.036,
          0.1,
          0.028000000000000004
         ],
         "theta": [
          "Digital Channel",
          "Tech Stack",
          "Fundraise Strategy",
          "Confidentiality",
          "Responsiveness",
          "Quality Impact",
          "Staff Knowledge",
          "Cultural Linguistic Needs",
          "Age Appropriate Guidance",
          "Accessibility"
         ],
         "type": "scatterpolar"
        },
        {
         "fill": "toself",
         "name": "Best Possible Score",
         "r": [
          0.12,
          0.08,
          0.06,
          0.1,
          0.07,
          0.13,
          0.11,
          0.09,
          0.1,
          0.14
         ],
         "theta": [
          "Digital Channel",
          "Tech Stack",
          "Fundraise Strategy",
          "Confidentiality",
          "Responsiveness",
          "Quality Impact",
          "Staff Knowledge",
          "Cultural Linguistic Needs",
          "Age Appropriate Guidance",
          "Accessibility"
         ],
         "type": "scatterpolar"
        }
       ],
       "layout": {
        "autosize": true,
        "polar": {
         "angularaxis": {
          "type": "category"
         },
         "radialaxis": {
          "autorange": false,
          "range": [
           0,
           0.14
          ],
          "type": "linear",
          "visible": false
         }
        },
        "template": {
         "data": {
          "bar": [
           {
            "error_x": {
             "color": "#2a3f5f"
            },
            "error_y": {
             "color": "#2a3f5f"
            },
            "marker": {
             "line": {
              "color": "#E5ECF6",
              "width": 0.5
             },
             "pattern": {
              "fillmode": "overlay",
              "size": 10,
              "solidity": 0.2
             }
            },
            "type": "bar"
           }
          ],
          "barpolar": [
           {
            "marker": {
             "line": {
              "color": "#E5ECF6",
              "width": 0.5
             },
             "pattern": {
              "fillmode": "overlay",
              "size": 10,
              "solidity": 0.2
             }
            },
            "type": "barpolar"
           }
          ],
          "carpet": [
           {
            "aaxis": {
             "endlinecolor": "#2a3f5f",
             "gridcolor": "white",
             "linecolor": "white",
             "minorgridcolor": "white",
             "startlinecolor": "#2a3f5f"
            },
            "baxis": {
             "endlinecolor": "#2a3f5f",
             "gridcolor": "white",
             "linecolor": "white",
             "minorgridcolor": "white",
             "startlinecolor": "#2a3f5f"
            },
            "type": "carpet"
           }
          ],
          "choropleth": [
           {
            "colorbar": {
             "outlinewidth": 0,
             "ticks": ""
            },
            "type": "choropleth"
           }
          ],
          "contour": [
           {
            "colorbar": {
             "outlinewidth": 0,
             "ticks": ""
            },
            "colorscale": [
             [
              0,
              "#0d0887"
             ],
             [
              0.1111111111111111,
              "#46039f"
             ],
             [
              0.2222222222222222,
              "#7201a8"
             ],
             [
              0.3333333333333333,
              "#9c179e"
             ],
             [
              0.4444444444444444,
              "#bd3786"
             ],
             [
              0.5555555555555556,
              "#d8576b"
             ],
             [
              0.6666666666666666,
              "#ed7953"
             ],
             [
              0.7777777777777778,
              "#fb9f3a"
             ],
             [
              0.8888888888888888,
              "#fdca26"
             ],
             [
              1,
              "#f0f921"
             ]
            ],
            "type": "contour"
           }
          ],
          "contourcarpet": [
           {
            "colorbar": {
             "outlinewidth": 0,
             "ticks": ""
            },
            "type": "contourcarpet"
           }
          ],
          "heatmap": [
           {
            "colorbar": {
             "outlinewidth": 0,
             "ticks": ""
            },
            "colorscale": [
             [
              0,
              "#0d0887"
             ],
             [
              0.1111111111111111,
              "#46039f"
             ],
             [
              0.2222222222222222,
              "#7201a8"
             ],
             [
              0.3333333333333333,
              "#9c179e"
             ],
             [
              0.4444444444444444,
              "#bd3786"
             ],
             [
              0.5555555555555556,
              "#d8576b"
             ],
             [
              0.6666666666666666,
              "#ed7953"
             ],
             [
              0.7777777777777778,
              "#fb9f3a"
             ],
             [
              0.8888888888888888,
              "#fdca26"
             ],
             [
              1,
              "#f0f921"
             ]
            ],
            "type": "heatmap"
           }
          ],
          "heatmapgl": [
           {
            "colorbar": {
             "outlinewidth": 0,
             "ticks": ""
            },
            "colorscale": [
             [
              0,
              "#0d0887"
             ],
             [
              0.1111111111111111,
              "#46039f"
             ],
             [
              0.2222222222222222,
              "#7201a8"
             ],
             [
              0.3333333333333333,
              "#9c179e"
             ],
             [
              0.4444444444444444,
              "#bd3786"
             ],
             [
              0.5555555555555556,
              "#d8576b"
             ],
             [
              0.6666666666666666,
              "#ed7953"
             ],
             [
              0.7777777777777778,
              "#fb9f3a"
             ],
             [
              0.8888888888888888,
              "#fdca26"
             ],
             [
              1,
              "#f0f921"
             ]
            ],
            "type": "heatmapgl"
           }
          ],
          "histogram": [
           {
            "marker": {
             "pattern": {
              "fillmode": "overlay",
              "size": 10,
              "solidity": 0.2
             }
            },
            "type": "histogram"
           }
          ],
          "histogram2d": [
           {
            "colorbar": {
             "outlinewidth": 0,
             "ticks": ""
            },
            "colorscale": [
             [
              0,
              "#0d0887"
             ],
             [
              0.1111111111111111,
              "#46039f"
             ],
             [
              0.2222222222222222,
              "#7201a8"
             ],
             [
              0.3333333333333333,
              "#9c179e"
             ],
             [
              0.4444444444444444,
              "#bd3786"
             ],
             [
              0.5555555555555556,
              "#d8576b"
             ],
             [
              0.6666666666666666,
              "#ed7953"
             ],
             [
              0.7777777777777778,
              "#fb9f3a"
             ],
             [
              0.8888888888888888,
              "#fdca26"
             ],
             [
              1,
              "#f0f921"
             ]
            ],
            "type": "histogram2d"
           }
          ],
          "histogram2dcontour": [
           {
            "colorbar": {
             "outlinewidth": 0,
             "ticks": ""
            },
            "colorscale": [
             [
              0,
              "#0d0887"
             ],
             [
              0.1111111111111111,
              "#46039f"
             ],
             [
              0.2222222222222222,
              "#7201a8"
             ],
             [
              0.3333333333333333,
              "#9c179e"
             ],
             [
              0.4444444444444444,
              "#bd3786"
             ],
             [
              0.5555555555555556,
              "#d8576b"
             ],
             [
              0.6666666666666666,
              "#ed7953"
             ],
             [
              0.7777777777777778,
              "#fb9f3a"
             ],
             [
              0.8888888888888888,
              "#fdca26"
             ],
             [
              1,
              "#f0f921"
             ]
            ],
            "type": "histogram2dcontour"
           }
          ],
          "mesh3d": [
           {
            "colorbar": {
             "outlinewidth": 0,
             "ticks": ""
            },
            "type": "mesh3d"
           }
          ],
          "parcoords": [
           {
            "line": {
             "colorbar": {
              "outlinewidth": 0,
              "ticks": ""
             }
            },
            "type": "parcoords"
           }
          ],
          "pie": [
           {
            "automargin": true,
            "type": "pie"
           }
          ],
          "scatter": [
           {
            "fillpattern": {
             "fillmode": "overlay",
             "size": 10,
             "solidity": 0.2
            },
            "type": "scatter"
           }
          ],
          "scatter3d": [
           {
            "line": {
             "colorbar": {
              "outlinewidth": 0,
              "ticks": ""
             }
            },
            "marker": {
             "colorbar": {
              "outlinewidth": 0,
              "ticks": ""
             }
            },
            "type": "scatter3d"
           }
          ],
          "scattercarpet": [
           {
            "marker": {
             "colorbar": {
              "outlinewidth": 0,
              "ticks": ""
             }
            },
            "type": "scattercarpet"
           }
          ],
          "scattergeo": [
           {
            "marker": {
             "colorbar": {
              "outlinewidth": 0,
              "ticks": ""
             }
            },
            "type": "scattergeo"
           }
          ],
          "scattergl": [
           {
            "marker": {
             "colorbar": {
              "outlinewidth": 0,
              "ticks": ""
             }
            },
            "type": "scattergl"
           }
          ],
          "scattermapbox": [
           {
            "marker": {
             "colorbar": {
              "outlinewidth": 0,
              "ticks": ""
             }
            },
            "type": "scattermapbox"
           }
          ],
          "scatterpolar": [
           {
            "marker": {
             "colorbar": {
              "outlinewidth": 0,
              "ticks": ""
             }
            },
            "type": "scatterpolar"
           }
          ],
          "scatterpolargl": [
           {
            "marker": {
             "colorbar": {
              "outlinewidth": 0,
              "ticks": ""
             }
            },
            "type": "scatterpolargl"
           }
          ],
          "scatterternary": [
           {
            "marker": {
             "colorbar": {
              "outlinewidth": 0,
              "ticks": ""
             }
            },
            "type": "scatterternary"
           }
          ],
          "surface": [
           {
            "colorbar": {
             "outlinewidth": 0,
             "ticks": ""
            },
            "colorscale": [
             [
              0,
              "#0d0887"
             ],
             [
              0.1111111111111111,
              "#46039f"
             ],
             [
              0.2222222222222222,
              "#7201a8"
             ],
             [
              0.3333333333333333,
              "#9c179e"
             ],
             [
              0.4444444444444444,
              "#bd3786"
             ],
             [
              0.5555555555555556,
              "#d8576b"
             ],
             [
              0.6666666666666666,
              "#ed7953"
             ],
             [
              0.7777777777777778,
              "#fb9f3a"
             ],
             [
              0.8888888888888888,
              "#fdca26"
             ],
             [
              1,
              "#f0f921"
             ]
            ],
            "type": "surface"
           }
          ],
          "table": [
           {
            "cells": {
             "fill": {
              "color": "#EBF0F8"
             },
             "line": {
              "color": "white"
             }
            },
            "header": {
             "fill": {
              "color": "#C8D4E3"
             },
             "line": {
              "color": "white"
             }
            },
            "type": "table"
           }
          ]
         },
         "layout": {
          "annotationdefaults": {
           "arrowcolor": "#2a3f5f",
           "arrowhead": 0,
           "arrowwidth": 1
          },
          "autotypenumbers": "strict",
          "coloraxis": {
           "colorbar": {
            "outlinewidth": 0,
            "ticks": ""
           }
          },
          "colorscale": {
           "diverging": [
            [
             0,
             "#8e0152"
            ],
            [
             0.1,
             "#c51b7d"
            ],
            [
             0.2,
             "#de77ae"
            ],
            [
             0.3,
             "#f1b6da"
            ],
            [
             0.4,
             "#fde0ef"
            ],
            [
             0.5,
             "#f7f7f7"
            ],
            [
             0.6,
             "#e6f5d0"
            ],
            [
             0.7,
             "#b8e186"
            ],
            [
             0.8,
             "#7fbc41"
            ],
            [
             0.9,
             "#4d9221"
            ],
            [
             1,
             "#276419"
            ]
           ],
           "sequential": [
            [
             0,
             "#0d0887"
            ],
            [
             0.1111111111111111,
             "#46039f"
            ],
            [
             0.2222222222222222,
             "#7201a8"
            ],
            [
             0.3333333333333333,
             "#9c179e"
            ],
            [
             0.4444444444444444,
             "#bd3786"
            ],
            [
             0.5555555555555556,
             "#d8576b"
            ],
            [
             0.6666666666666666,
             "#ed7953"
            ],
            [
             0.7777777777777778,
             "#fb9f3a"
            ],
            [
             0.8888888888888888,
             "#fdca26"
            ],
            [
             1,
             "#f0f921"
            ]
           ],
           "sequentialminus": [
            [
             0,
             "#0d0887"
            ],
            [
             0.1111111111111111,
             "#46039f"
            ],
            [
             0.2222222222222222,
             "#7201a8"
            ],
            [
             0.3333333333333333,
             "#9c179e"
            ],
            [
             0.4444444444444444,
             "#bd3786"
            ],
            [
             0.5555555555555556,
             "#d8576b"
            ],
            [
             0.6666666666666666,
             "#ed7953"
            ],
            [
             0.7777777777777778,
             "#fb9f3a"
            ],
            [
             0.8888888888888888,
             "#fdca26"
            ],
            [
             1,
             "#f0f921"
            ]
           ]
          },
          "colorway": [
           "#636efa",
           "#EF553B",
           "#00cc96",
           "#ab63fa",
           "#FFA15A",
           "#19d3f3",
           "#FF6692",
           "#B6E880",
           "#FF97FF",
           "#FECB52"
          ],
          "font": {
           "color": "#2a3f5f"
          },
          "geo": {
           "bgcolor": "white",
           "lakecolor": "white",
           "landcolor": "#E5ECF6",
           "showlakes": true,
           "showland": true,
           "subunitcolor": "white"
          },
          "hoverlabel": {
           "align": "left"
          },
          "hovermode": "closest",
          "mapbox": {
           "style": "light"
          },
          "paper_bgcolor": "white",
          "plot_bgcolor": "#E5ECF6",
          "polar": {
           "angularaxis": {
            "gridcolor": "white",
            "linecolor": "white",
            "ticks": ""
           },
           "bgcolor": "#E5ECF6",
           "radialaxis": {
            "gridcolor": "white",
            "linecolor": "white",
            "ticks": ""
           }
          },
          "scene": {
           "xaxis": {
            "backgroundcolor": "#E5ECF6",
            "gridcolor": "white",
            "gridwidth": 2,
            "linecolor": "white",
            "showbackground": true,
            "ticks": "",
            "zerolinecolor": "white"
           },
           "yaxis": {
            "backgroundcolor": "#E5ECF6",
            "gridcolor": "white",
            "gridwidth": 2,
            "linecolor": "white",
            "showbackground": true,
            "ticks": "",
            "zerolinecolor": "white"
           },
           "zaxis": {
            "backgroundcolor": "#E5ECF6",
            "gridcolor": "white",
            "gridwidth": 2,
            "linecolor": "white",
            "showbackground": true,
            "ticks": "",
            "zerolinecolor": "white"
           }
          },
          "shapedefaults": {
           "line": {
            "color": "#2a3f5f"
           }
          },
          "ternary": {
           "aaxis": {
            "gridcolor": "white",
            "linecolor": "white",
            "ticks": ""
           },
           "baxis": {
            "gridcolor": "white",
            "linecolor": "white",
            "ticks": ""
           },
           "bgcolor": "#E5ECF6",
           "caxis": {
            "gridcolor": "white",
            "linecolor": "white",
            "ticks": ""
           }
          },
          "title": {
           "x": 0.05
          },
          "xaxis": {
           "automargin": true,
           "gridcolor": "white",
           "linecolor": "white",
           "ticks": "",
           "title": {
            "standoff": 15
           },
           "zerolinecolor": "white",
           "zerolinewidth": 2
          },
          "yaxis": {
           "automargin": true,
           "gridcolor": "white",
           "linecolor": "white",
           "ticks": "",
           "title": {
            "standoff": 15
           },
           "zerolinecolor": "white",
           "zerolinewidth": 2
          }
         }
        }
       }
      },
      "image/png": "[encoded data removed]",
      "text/html": [
       "<div>                            <div id=\"8daf0d43-b997-44e6-8f9b-f983c5a756f4\" class=\"plotly-graph-div\" style=\"height:525px; width:100%;\"></div>            <script type=\"text/javascript\">                require([\"plotly\"], function(Plotly) {                    window.PLOTLYENV=window.PLOTLYENV || {};                                    if (document.getElementById(\"8daf0d43-b997-44e6-8f9b-f983c5a756f4\")) {                    Plotly.newPlot(                        \"8daf0d43-b997-44e6-8f9b-f983c5a756f4\",                        [{\"fill\":\"toself\",\"name\":\"User Inputs\",\"r\":[0.072,0.064,0.024,0.1,0.014000000000000002,0.078,0.088,0.036,0.1,0.028000000000000004],\"theta\":[\"Digital Channel\",\"Tech Stack\",\"Fundraise Strategy\",\"Confidentiality\",\"Responsiveness\",\"Quality Impact\",\"Staff Knowledge\",\"Cultural Linguistic Needs\",\"Age Appropriate Guidance\",\"Accessibility\"],\"type\":\"scatterpolar\"},{\"fill\":\"toself\",\"name\":\"Best Possible Score\",\"r\":[0.12,0.08,0.06,0.1,0.07,0.13,0.11,0.09,0.1,0.14],\"theta\":[\"Digital Channel\",\"Tech Stack\",\"Fundraise Strategy\",\"Confidentiality\",\"Responsiveness\",\"Quality Impact\",\"Staff Knowledge\",\"Cultural Linguistic Needs\",\"Age Appropriate Guidance\",\"Accessibility\"],\"type\":\"scatterpolar\"}],                        {\"template\":{\"data\":{\"histogram2dcontour\":[{\"type\":\"histogram2dcontour\",\"colorbar\":{\"outlinewidth\":0,\"ticks\":\"\"},\"colorscale\":[[0.0,\"#0d0887\"],[0.1111111111111111,\"#46039f\"],[0.2222222222222222,\"#7201a8\"],[0.3333333333333333,\"#9c179e\"],[0.4444444444444444,\"#bd3786\"],[0.5555555555555556,\"#d8576b\"],[0.6666666666666666,\"#ed7953\"],[0.7777777777777778,\"#fb9f3a\"],[0.8888888888888888,\"#fdca26\"],[1.0,\"#f0f921\"]]}],\"choropleth\":[{\"type\":\"choropleth\",\"colorbar\":{\"outlinewidth\":0,\"ticks\":\"\"}}],\"histogram2d\":[{\"type\":\"histogram2d\",\"colorbar\":{\"outlinewidth\":0,\"ticks\":\"\"},\"colorscale\":[[0.0,\"#0d0887\"],[0.1111111111111111,\"#46039f\"],[0.2222222222222222,\"#7201a8\"],[0.3333333333333333,\"#9c179e\"],[0.4444444444444444,\"#bd3786\"],[0.5555555555555556,\"#d8576b\"],[0.6666666666666666,\"#ed7953\"],[0.7777777777777778,\"#fb9f3a\"],[0.8888888888888888,\"#fdca26\"],[1.0,\"#f0f921\"]]}],\"heatmap\":[{\"type\":\"heatmap\",\"colorbar\":{\"outlinewidth\":0,\"ticks\":\"\"},\"colorscale\":[[0.0,\"#0d0887\"],[0.1111111111111111,\"#46039f\"],[0.2222222222222222,\"#7201a8\"],[0.3333333333333333,\"#9c179e\"],[0.4444444444444444,\"#bd3786\"],[0.5555555555555556,\"#d8576b\"],[0.6666666666666666,\"#ed7953\"],[0.7777777777777778,\"#fb9f3a\"],[0.8888888888888888,\"#fdca26\"],[1.0,\"#f0f921\"]]}],\"heatmapgl\":[{\"type\":\"heatmapgl\",\"colorbar\":{\"outlinewidth\":0,\"ticks\":\"\"},\"colorscale\":[[0.0,\"#0d0887\"],[0.1111111111111111,\"#46039f\"],[0.2222222222222222,\"#7201a8\"],[0.3333333333333333,\"#9c179e\"],[0.4444444444444444,\"#bd3786\"],[0.5555555555555556,\"#d8576b\"],[0.6666666666666666,\"#ed7953\"],[0.7777777777777778,\"#fb9f3a\"],[0.8888888888888888,\"#fdca26\"],[1.0,\"#f0f921\"]]}],\"contourcarpet\":[{\"type\":\"contourcarpet\",\"colorbar\":{\"outlinewidth\":0,\"ticks\":\"\"}}],\"contour\":[{\"type\":\"contour\",\"colorbar\":{\"outlinewidth\":0,\"ticks\":\"\"},\"colorscale\":[[0.0,\"#0d0887\"],[0.1111111111111111,\"#46039f\"],[0.2222222222222222,\"#7201a8\"],[0.3333333333333333,\"#9c179e\"],[0.4444444444444444,\"#bd3786\"],[0.5555555555555556,\"#d8576b\"],[0.6666666666666666,\"#ed7953\"],[0.7777777777777778,\"#fb9f3a\"],[0.8888888888888888,\"#fdca26\"],[1.0,\"#f0f921\"]]}],\"surface\":[{\"type\":\"surface\",\"colorbar\":{\"outlinewidth\":0,\"ticks\":\"\"},\"colorscale\":[[0.0,\"#0d0887\"],[0.1111111111111111,\"#46039f\"],[0.2222222222222222,\"#7201a8\"],[0.3333333333333333,\"#9c179e\"],[0.4444444444444444,\"#bd3786\"],[0.5555555555555556,\"#d8576b\"],[0.6666666666666666,\"#ed7953\"],[0.7777777777777778,\"#fb9f3a\"],[0.8888888888888888,\"#fdca26\"],[1.0,\"#f0f921\"]]}],\"mesh3d\":[{\"type\":\"mesh3d\",\"colorbar\":{\"outlinewidth\":0,\"ticks\":\"\"}}],\"scatter\":[{\"fillpattern\":{\"fillmode\":\"overlay\",\"size\":10,\"solidity\":0.2},\"type\":\"scatter\"}],\"parcoords\":[{\"type\":\"parcoords\",\"line\":{\"colorbar\":{\"outlinewidth\":0,\"ticks\":\"\"}}}],\"scatterpolargl\":[{\"type\":\"scatterpolargl\",\"marker\":{\"colorbar\":{\"outlinewidth\":0,\"ticks\":\"\"}}}],\"bar\":[{\"error_x\":{\"color\":\"#2a3f5f\"},\"error_y\":{\"color\":\"#2a3f5f\"},\"marker\":{\"line\":{\"color\":\"#E5ECF6\",\"width\":0.5},\"pattern\":{\"fillmode\":\"overlay\",\"size\":10,\"solidity\":0.2}},\"type\":\"bar\"}],\"scattergeo\":[{\"type\":\"scattergeo\",\"marker\":{\"colorbar\":{\"outlinewidth\":0,\"ticks\":\"\"}}}],\"scatterpolar\":[{\"type\":\"scatterpolar\",\"marker\":{\"colorbar\":{\"outlinewidth\":0,\"ticks\":\"\"}}}],\"histogram\":[{\"marker\":{\"pattern\":{\"fillmode\":\"overlay\",\"size\":10,\"solidity\":0.2}},\"type\":\"histogram\"}],\"scattergl\":[{\"type\":\"scattergl\",\"marker\":{\"colorbar\":{\"outlinewidth\":0,\"ticks\":\"\"}}}],\"scatter3d\":[{\"type\":\"scatter3d\",\"line\":{\"colorbar\":{\"outlinewidth\":0,\"ticks\":\"\"}},\"marker\":{\"colorbar\":{\"outlinewidth\":0,\"ticks\":\"\"}}}],\"scattermapbox\":[{\"type\":\"scattermapbox\",\"marker\":{\"colorbar\":{\"outlinewidth\":0,\"ticks\":\"\"}}}],\"scatterternary\":[{\"type\":\"scatterternary\",\"marker\":{\"colorbar\":{\"outlinewidth\":0,\"ticks\":\"\"}}}],\"scattercarpet\":[{\"type\":\"scattercarpet\",\"marker\":{\"colorbar\":{\"outlinewidth\":0,\"ticks\":\"\"}}}],\"carpet\":[{\"aaxis\":{\"endlinecolor\":\"#2a3f5f\",\"gridcolor\":\"white\",\"linecolor\":\"white\",\"minorgridcolor\":\"white\",\"startlinecolor\":\"#2a3f5f\"},\"baxis\":{\"endlinecolor\":\"#2a3f5f\",\"gridcolor\":\"white\",\"linecolor\":\"white\",\"minorgridcolor\":\"white\",\"startlinecolor\":\"#2a3f5f\"},\"type\":\"carpet\"}],\"table\":[{\"cells\":{\"fill\":{\"color\":\"#EBF0F8\"},\"line\":{\"color\":\"white\"}},\"header\":{\"fill\":{\"color\":\"#C8D4E3\"},\"line\":{\"color\":\"white\"}},\"type\":\"table\"}],\"barpolar\":[{\"marker\":{\"line\":{\"color\":\"#E5ECF6\",\"width\":0.5},\"pattern\":{\"fillmode\":\"overlay\",\"size\":10,\"solidity\":0.2}},\"type\":\"barpolar\"}],\"pie\":[{\"automargin\":true,\"type\":\"pie\"}]},\"layout\":{\"autotypenumbers\":\"strict\",\"colorway\":[\"#636efa\",\"#EF553B\",\"#00cc96\",\"#ab63fa\",\"#FFA15A\",\"#19d3f3\",\"#FF6692\",\"#B6E880\",\"#FF97FF\",\"#FECB52\"],\"font\":{\"color\":\"#2a3f5f\"},\"hovermode\":\"closest\",\"hoverlabel\":{\"align\":\"left\"},\"paper_bgcolor\":\"white\",\"plot_bgcolor\":\"#E5ECF6\",\"polar\":{\"bgcolor\":\"#E5ECF6\",\"angularaxis\":{\"gridcolor\":\"white\",\"linecolor\":\"white\",\"ticks\":\"\"},\"radialaxis\":{\"gridcolor\":\"white\",\"linecolor\":\"white\",\"ticks\":\"\"}},\"ternary\":{\"bgcolor\":\"#E5ECF6\",\"aaxis\":{\"gridcolor\":\"white\",\"linecolor\":\"white\",\"ticks\":\"\"},\"baxis\":{\"gridcolor\":\"white\",\"linecolor\":\"white\",\"ticks\":\"\"},\"caxis\":{\"gridcolor\":\"white\",\"linecolor\":\"white\",\"ticks\":\"\"}},\"coloraxis\":{\"colorbar\":{\"outlinewidth\":0,\"ticks\":\"\"}},\"colorscale\":{\"sequential\":[[0.0,\"#0d0887\"],[0.1111111111111111,\"#46039f\"],[0.2222222222222222,\"#7201a8\"],[0.3333333333333333,\"#9c179e\"],[0.4444444444444444,\"#bd3786\"],[0.5555555555555556,\"#d8576b\"],[0.6666666666666666,\"#ed7953\"],[0.7777777777777778,\"#fb9f3a\"],[0.8888888888888888,\"#fdca26\"],[1.0,\"#f0f921\"]],\"sequentialminus\":[[0.0,\"#0d0887\"],[0.1111111111111111,\"#46039f\"],[0.2222222222222222,\"#7201a8\"],[0.3333333333333333,\"#9c179e\"],[0.4444444444444444,\"#bd3786\"],[0.5555555555555556,\"#d8576b\"],[0.6666666666666666,\"#ed7953\"],[0.7777777777777778,\"#fb9f3a\"],[0.8888888888888888,\"#fdca26\"],[1.0,\"#f0f921\"]],\"diverging\":[[0,\"#8e0152\"],[0.1,\"#c51b7d\"],[0.2,\"#de77ae\"],[0.3,\"#f1b6da\"],[0.4,\"#fde0ef\"],[0.5,\"#f7f7f7\"],[0.6,\"#e6f5d0\"],[0.7,\"#b8e186\"],[0.8,\"#7fbc41\"],[0.9,\"#4d9221\"],[1,\"#276419\"]]},\"xaxis\":{\"gridcolor\":\"white\",\"linecolor\":\"white\",\"ticks\":\"\",\"title\":{\"standoff\":15},\"zerolinecolor\":\"white\",\"automargin\":true,\"zerolinewidth\":2},\"yaxis\":{\"gridcolor\":\"white\",\"linecolor\":\"white\",\"ticks\":\"\",\"title\":{\"standoff\":15},\"zerolinecolor\":\"white\",\"automargin\":true,\"zerolinewidth\":2},\"scene\":{\"xaxis\":{\"backgroundcolor\":\"#E5ECF6\",\"gridcolor\":\"white\",\"linecolor\":\"white\",\"showbackground\":true,\"ticks\":\"\",\"zerolinecolor\":\"white\",\"gridwidth\":2},\"yaxis\":{\"backgroundcolor\":\"#E5ECF6\",\"gridcolor\":\"white\",\"linecolor\":\"white\",\"showbackground\":true,\"ticks\":\"\",\"zerolinecolor\":\"white\",\"gridwidth\":2},\"zaxis\":{\"backgroundcolor\":\"#E5ECF6\",\"gridcolor\":\"white\",\"linecolor\":\"white\",\"showbackground\":true,\"ticks\":\"\",\"zerolinecolor\":\"white\",\"gridwidth\":2}},\"shapedefaults\":{\"line\":{\"color\":\"#2a3f5f\"}},\"annotationdefaults\":{\"arrowcolor\":\"#2a3f5f\",\"arrowhead\":0,\"arrowwidth\":1},\"geo\":{\"bgcolor\":\"white\",\"landcolor\":\"#E5ECF6\",\"subunitcolor\":\"white\",\"showland\":true,\"showlakes\":true,\"lakecolor\":\"white\"},\"title\":{\"x\":0.05},\"mapbox\":{\"style\":\"light\"}}},\"polar\":{\"radialaxis\":{\"range\":[0,0.14],\"visible\":false}}},                        {\"responsive\": true}                    ).then(function(){\n",
       "                            \n",
       "var gd = document.getElementById('8daf0d43-b997-44e6-8f9b-f983c5a756f4');\n",
       "var x = new MutationObserver(function (mutations, observer) {{\n",
       "        var display = window.getComputedStyle(gd).display;\n",
       "        if (!display || display === 'none') {{\n",
       "            console.log([gd, 'removed!']);\n",
       "            Plotly.purge(gd);\n",
       "            observer.disconnect();\n",
       "        }}\n",
       "}});\n",
       "\n",
       "// Listen for the removal of the full notebook cells\n",
       "var notebookContainer = gd.closest('#notebook-container');\n",
       "if (notebookContainer) {{\n",
       "    x.observe(notebookContainer, {childList: true});\n",
       "}}\n",
       "\n",
       "// Listen for the clearing of the current output cell\n",
       "var outputEl = gd.closest('.output');\n",
       "if (outputEl) {{\n",
       "    x.observe(outputEl, {childList: true});\n",
       "}}\n",
       "\n",
       "                        })                };                });            </script>        </div>"
      ]
     },
     "metadata": {},
     "output_type": "display_data"
    }
   ],
   "source": [
    "import plotly.graph_objects as go\n",
    "\n",
    "labels = [label.replace('_', ' ').title() for label in user_scores_weighted.keys()]\n",
    "values_user = list(user_scores_weighted.values())\n",
    "values_best = list(weights_dict.values())\n",
    "\n",
    "layout = go.Layout(\n",
    "    polar=dict(\n",
    "        radialaxis=dict(\n",
    "            visible=False,\n",
    "            range=[0, 0.14]\n",
    "        )\n",
    "    )\n",
    ")\n",
    "\n",
    "fig = go.Figure()\n",
    "\n",
    "fig.add_trace(go.Scatterpolar(\n",
    "    r=values_user,\n",
    "    theta=labels,\n",
    "    fill='toself',\n",
    "    name='User Inputs'\n",
    "))\n",
    "\n",
    "fig.add_trace(go.Scatterpolar(\n",
    "    r=values_best,\n",
    "    theta=labels,\n",
    "    fill='toself',\n",
    "    name='Best Possible Score'\n",
    "))\n",
    "\n",
    "fig.update_layout(layout)\n"
   ]
  },
  {
   "cell_type": "code",
   "execution_count": 41,
   "id": "78d6db8f-77a8-4616-8063-fb7d26ef9599",
   "metadata": {},
   "outputs": [
    {
     "data": {
      "text/plain": [
       "[0.6, 0.8, 0.4, 1.0, 0.2, 0.6, 0.8, 0.4, 1.0, 0.2]"
      ]
     },
     "execution_count": 42,
     "metadata": {},
     "output_type": "execute_result"
    }
   ],
   "source": [
    "user_scores = {\n",
    "    'digital_channel': 3,\n",
    "    'tech_stack': 4,\n",
    "    'fundraise_strategy': 2,\n",
    "    'confidentiality': 5,\n",
    "    'responsiveness': 1,\n",
    "    'quality_impact': 3,\n",
    "    'staff_knowledge': 4,\n",
    "    'cultural_linguistic_needs': 2,\n",
    "    'age_appropriate_guidance': 5,\n",
    "    'accessibility': 1\n",
    "}\n",
    "\n",
    "model_weights = {\n",
    "    'digital_channel': 0.12,\n",
    "    'tech_stack': 0.08,\n",
    "    'fundraise_strategy': 0.06,\n",
    "    'confidentiality': 0.10,\n",
    "    'responsiveness': 0.07,\n",
    "    'quality_impact': 0.13,\n",
    "    'staff_knowledge': 0.11,\n",
    "    'cultural_linguistic_needs': 0.09,\n",
    "    'age_appropriate_guidance': 0.10,\n",
    "    'accessibility': 0.14\n",
    "}\n",
    "\n",
    "\n",
    "labels = [label.replace('_', ' ').title() for label in user_scores.keys()]\n",
    "values_user = [value / 5 for value in user_scores.values()]\n",
    "values_best = list(model_weights.values())\n",
    "\n",
    "\n",
    "\n",
    "# layout = go.Layout(\n",
    "#     polar=dict(\n",
    "#         radialaxis=dict(\n",
    "#             visible=False,\n",
    "#             range=[0, max(values_best)]\n",
    "#         )\n",
    "#     )\n",
    "# )\n",
    "\n",
    "# fig = go.Figure()\n",
    "\n",
    "# fig.add_trace(go.Scatterpolar(\n",
    "#     r=values_user,\n",
    "#     theta=labels,\n",
    "#     fill='toself',\n",
    "#     name='User Inputs'\n",
    "# ))\n",
    "\n",
    "# fig.add_trace(go.Scatterpolar(\n",
    "#     r=values_best,\n",
    "#     theta=labels,\n",
    "#     fill='toself',\n",
    "#     name='Best Possible Score'\n",
    "# ))\n",
    "\n",
    "# fig.update_layout(layout)\n",
    "\n",
    "# fig.show()"
   ]
  },
  {
   "cell_type": "code",
   "execution_count": null,
   "id": "1b39b8ce-702c-42db-8ee8-ef0d3647aec7",
   "metadata": {},
   "outputs": [],
   "source": []
  },
  {
   "cell_type": "markdown",
   "id": "fc4f5614",
   "metadata": {
    "id": "fc4f5614"
   },
   "source": [
    "# Analytical Hierarchy Process"
   ]
  },
  {
   "cell_type": "markdown",
   "id": "1451576b",
   "metadata": {
    "id": "1451576b"
   },
   "source": [
    "$\\newcommand{\\A}{\\begin{Bmatrix}\n",
    "1 & w_1 & w_2 & w_3 & w_4 \\\\\n",
    "\\frac{1}{w_1} & 1 & w_5 & w_6 & w_7 \\\\\n",
    "\\frac{1}{w_2} & \\frac{1}{w_5} & 1 & w_8 & w_9 \\\\\n",
    "\\frac{1}{w_3} & \\frac{1}{w_6} & \\frac{1}{w_8} & 1 & w_{10} \\\\\n",
    "\\frac{1}{w_4} & \\frac{1}{w_7} & \\frac{1}{w_9} & \\frac{1}{w_10} & 1 \\\\\n",
    "\\end{Bmatrix}}$\n",
    "\n",
    "$A = \\A$\n",
    "\n",
    "<br>\n",
    "<div class=\"warning\" style='background-color:#E9D8FD; color: #69337A; border-left: solid #805AD5 4px; border-radius: 4px; padding:0.7em;'>\n",
    "\n",
    "1. Put the criterions in the rows and the columns of a matrix\n",
    "2. Add a score to each $w_i$ (right upper part of the table)\n",
    "    * If **vertical** criterion is more important, assign the cell with **$\\frac{1}{w_i}$**\n",
    "    * If **horizontal** criterion is more important, assign the cell with **$w_i$**\n",
    "3. Feed the function `AHP_1_Participant` with the array of $w = [w_1, w_2, w_3, ..., w_i]$ keeping the **right order** and get 3 outputs: the *table A*, the *Weights of the criterions* and the *Consistency ratio* of the AHP\n",
    "4. In case of consolidated weight of multiple participants use the output A_i of the AHP of the individual participants and feed them as $A = [A_1, A_2, A_3, ..., A_i]$ into the function `AHP_Consolidated` keeping the **right order** and get the *consolidated Weights of the criterions* and the *consolidated Consistency ratio*.\n",
    "\n",
    "</div>"
   ]
  },
  {
   "cell_type": "markdown",
   "id": "5MVvcwxkUOg9",
   "metadata": {
    "id": "5MVvcwxkUOg9"
   },
   "source": [
    "# Import Libraries"
   ]
  },
  {
   "cell_type": "code",
   "execution_count": null,
   "id": "u5CcfrUdUOhE",
   "metadata": {
    "id": "u5CcfrUdUOhE"
   },
   "outputs": [],
   "source": [
    "import pandas as pd\n",
    "import seaborn as sns\n",
    "from scipy.spatial.distance import squareform\n",
    "import numpy as np\n",
    "import matplotlib.pyplot as plt"
   ]
  },
  {
   "cell_type": "markdown",
   "id": "EjQ7KhSMUOhF",
   "metadata": {
    "id": "EjQ7KhSMUOhF"
   },
   "source": [
    "# Functions"
   ]
  },
  {
   "cell_type": "code",
   "execution_count": 20,
   "id": "usXbakjfOVxz",
   "metadata": {
    "id": "usXbakjfOVxz"
   },
   "outputs": [],
   "source": [
    "def make_matrix(arr):\n",
    "  \"\"\" \n",
    "  Goal:\n",
    "  Transform the input to appropriate format\n",
    "\n",
    "  Input:\n",
    "  arr: the array with the weight with respect to the right order (w = w1, w2, w3, w4...)\n",
    "  \n",
    "  Output:\n",
    "  A: Transformed the w array to get the right format of the A matrix\n",
    "  \"\"\"\n",
    "  X = (squareform(arr)).astype(float)\n",
    "  row, col = np.diag_indices(X.shape[0])\n",
    "  X[row,col] = np.ones(X.shape[0])\n",
    "  for i in range(0, len(row)):\n",
    "      for j in range(0, len(col)):\n",
    "          if j < i:\n",
    "              X[i, j] = (1 / X[i, j])\n",
    "  A = np.asarray(X)\n",
    "  return A\n",
    "\n",
    "def AHP_1_Participant(arr):\n",
    "  \"\"\" \n",
    "  Goal:\n",
    "  Apply the AHP only on one participant to calculate the Consistency ratio, the weights, their standard deviation and the rgmm\n",
    "  \n",
    "  Input:\n",
    "  arr: the array with the weight with respect to the right order (w = [w1, w2, w3, w4, ..., wi])\n",
    "  \n",
    "  Output:\n",
    "  A: Transformed the w array to get the right format of the A matrix (using the make_matrix function)\n",
    "  p: A dataframe with the normalized weights of the criterions and their st. deviation and the RGMM and their standard deviation\n",
    "  cr: The consistency ratio of the participant\n",
    "  rggm: The RGMM values of the participant\n",
    "\n",
    "  Plot:\n",
    "  1. The A matrix with the answers to cross validate it\n",
    "  2. The Consistency Ratio Matrix to detect the \"suspicious\" weights\n",
    "  3. The consistency ration of each participant and the normalized one\n",
    "  \"\"\"\n",
    "\n",
    "  alpha = 0.1\n",
    "  A = make_matrix(arr)\n",
    "  n = len(A)\n",
    "  x_ticks = ['C{}'.format(i) for i in range(1, n+1)]\n",
    "  sums = np.array(pd.DataFrame(A).sum())\n",
    "  ln_rgmm = np.log(A)\n",
    "  rgmm_sum = np.array(np.exp(pd.DataFrame(ln_rgmm).sum(axis = 1) / n))\n",
    "  rgmm_sum_2 = rgmm_sum.sum()\n",
    "  rggm = rgmm_sum / rgmm_sum_2\n",
    "  errors = np.zeros(np.shape(A))\n",
    "  \n",
    "  size = np.shape(errors)[1]\n",
    "  for i in range(0, size):\n",
    "      for j in range(0, size):\n",
    "          errors[i, j] = np.log(A[i, j] * rggm[j] / rggm[i]) ** 2\n",
    "  \n",
    "  errors_sum = np.sum(errors, 0)\n",
    "  error_calc = np.sqrt(errors_sum / (size - 1))\n",
    "  rggm_cosh = rggm * np.cosh(error_calc)\n",
    "  rggm_cosh_sum = np.sum(rggm_cosh)\n",
    "  rggm_final = rggm_cosh / rggm_cosh_sum\n",
    "  rggm_matmul = np.matmul(sums, rggm)\n",
    "\n",
    "  plus_minus = rggm * np.sinh(error_calc)/rggm_cosh_sum\n",
    "  cr0 = (rggm_matmul - n)/((2.7699*n-4.3513)-n)\n",
    "  eig_val = np.linalg.eig(A)[0].max()\n",
    "  eig_vec = np.linalg.eig(A)[1][:,0]\n",
    "  p = np.round(np.real(eig_vec/eig_vec.sum()), 3)\n",
    "  cr = np.round(np.real((eig_val - n)/((2.7699 * n - 4.3513) - n)), 3)\n",
    "  evt = np.real(A * size / eig_val)\n",
    "\n",
    "  for i in range(0, size):\n",
    "      for j in range(0, size):\n",
    "          evt[i, j] = evt[i, j]* rggm_final[j]\n",
    "\n",
    "  pi_pi = np.zeros(np.shape(A))\n",
    "  for i in range(0, size):\n",
    "      for j in range(0, size):\n",
    "          pi_pi[i, j] = rggm[j] / rggm[i]\n",
    "\n",
    "  pi_pi_A = pi_pi * A\n",
    "  pi_pi_A2 = np.zeros(np.shape(A))\n",
    "  for i in range(0, size):\n",
    "      for j in range(0, size):\n",
    "          if pi_pi_A[i, j] > 1/9 and pi_pi_A[i, j] < 9:\n",
    "              if pi_pi_A[i, j] > 1:\n",
    "                  pi_pi_A2[i, j] = A[i, j] * pi_pi[i, j]\n",
    "              else:\n",
    "                  pi_pi_A2[i, j] = 1 / (A[i, j] * pi_pi[i, j])\n",
    "          else:\n",
    "              pi_pi_A2[i, j] = 0\n",
    "  Consistency_ratio = list(pi_pi_A2[np.triu_indices(n, k = 1)])\n",
    "  std = np.array(pd.DataFrame(evt).std(1))\n",
    "  plt.title('A')\n",
    "  g1 = sns.heatmap(pd.DataFrame(np.tril(A)), annot=True, cmap = \"viridis\", cbar=False)\n",
    "  g1.set_xticklabels(x_ticks)\n",
    "  g1.set_yticklabels(x_ticks)\n",
    "  plt.show()\n",
    "  plt.title('Consistency Ratio Matrix')\n",
    "  g2 = sns.heatmap(pd.DataFrame(np.tril(pi_pi_A2)), annot=True, cmap = \"viridis\", cbar=False)\n",
    "  g2.set_yticklabels(x_ticks)\n",
    "  g2.set_xticklabels(x_ticks)\n",
    "  plt.show()\n",
    "  p = pd.DataFrame(p, columns = ['Weights'])\n",
    "  p.index = p.index + 1\n",
    "  p.index = 'Crit-' + p.index.astype(str)\n",
    "  p['Weights'] = p['Weights'].astype(float).map(\"{:.2%}\".format)\n",
    "  p['Weights +/-'] = std\n",
    "  p['Weights +/-'] = p['Weights +/-'].astype(float).map(\"{:.2%}\".format)\n",
    "  p['RGMM'] = rggm_final\n",
    "  p['RGMM'] = p['RGMM'].astype(float).map(\"{:.2%}\".format)\n",
    "  p['+/-'] = plus_minus\n",
    "  p['+/-'] = p['+/-'].astype(float).map(\"{:.2%}\".format)\n",
    "  print(p)\n",
    "  print(' ')\n",
    "  print('Consistency Ratio: {:.2%} & Consistency Ratio of Weighted: {:.2%}'.format(cr0, cr))\n",
    "  return A, p, cr, rggm\n",
    "\n",
    "def AHP_Consolidated(A, rggm, w = 1):\n",
    "  \"\"\" \n",
    "  Goal:\n",
    "  Apply the AHP to multiple participants to calculate the Consistency ratio, the weights, their standard deviation and the consolidated A\n",
    "  \n",
    "  Input:\n",
    "  A: a list containing the different A matrices (A = [A1, A2, A3, A4, ..., Ai]) (came from the AHP_1_Participant function)\n",
    "  rggm: a list containing the different rgmm matrices (rggm = [rgmm1, rgmm2, rgmm3, rgmm, ..., rgmmi]) (came from the AHP_1_Participant function)\n",
    "  w: the weight of the different stakeholders - Not yet implemented\n",
    "\n",
    "  Output:\n",
    "  cons_exp: The consolidated A matrix of the multiple participants\n",
    "  p: A dataframe with the normalized weights of the criterions and their st. deviation\n",
    "  cr: The consolidated consistency ratio\n",
    "\n",
    "  Plot:\n",
    "  1. The A matrix with the consolidated answers to cross validate it\n",
    "  2. The consolidated Consistency ratio and the consunsus value\n",
    "\n",
    "  \"\"\"\n",
    "  n = len(A)\n",
    "  logs = []\n",
    "  for i in A:\n",
    "      logs.append(np.array(np.log(i)))\n",
    "  cons = np.zeros(np.shape(logs[0]))\n",
    "  table_rggm = pd.DataFrame(rggm)\n",
    "  table_rggm_ln = -table_rggm*np.log(table_rggm)\n",
    "  alphas = table_rggm_ln.sum(1)\n",
    "  alpha = np.exp(np.sum(alphas)/n)\n",
    "  Da = np.exp(alpha)\n",
    "  gammas0 = table_rggm.sum(0)/n\n",
    "  gammas = -gammas0*np.log(gammas0)\n",
    "  gamma = np.exp(np.sum(gammas))\n",
    "  beta = gamma/alpha\n",
    "  for i in logs:\n",
    "      cons += i\n",
    "  cons = cons/n\n",
    "  cons_exp = (np.exp(cons))\n",
    "  size = np.shape(cons_exp)[1]\n",
    "  x_ticks = ['C{}'.format(i) for i in range(1, size+1)]\n",
    "  ahp_cor1 = np.exp((-9/(size+8)*np.log(9/(size+8))-(size-1)*(1/(size+8)*np.log(1/(size+8)))))\n",
    "  ahp_cor2 = np.exp((size-n)*(-1/(size+8)*np.log(1/(size+8)))+n*(-(n+8)/(size+8)/n*np.log((n+8)/(size+8)/n)))\n",
    "  ahp_cor3 = size / ahp_cor1\n",
    "  it0 = (cons_exp.sum(1)/10)\n",
    "  it = np.matmul(cons_exp, it0)\n",
    "  scale0 = it0 / np.max(it0)\n",
    "  scale = it / np.max(it)\n",
    "  for i in range(20):\n",
    "      it = np.matmul(cons_exp, scale)\n",
    "      scale = it / np.max(it)\n",
    "  \n",
    "  norm = np.zeros(len(scale))\n",
    "  for i in range(len(scale)):\n",
    "      norm[i] = scale[i] / sum(scale)\n",
    "  p = pd.DataFrame(norm, columns = ['Cons Weights'])\n",
    "  sum_cols = cons_exp.sum(0)\n",
    "  lamda = (sum(sum_cols*norm))\n",
    "  evt = np.real(size / lamda * cons_exp)\n",
    "  for i in range(0, size):\n",
    "      for j in range(0, size):\n",
    "          evt[i, j] = evt[i, j]* norm[j]\n",
    "  std = np.array(pd.DataFrame(evt).std(1))\n",
    "  cr = (lamda - len(sum_cols)) / ((2.7699*len(sum_cols)-4.3513)-len(sum_cols))\n",
    "  consensus = (1/beta-1/ahp_cor3)/(1-1/ahp_cor3)\n",
    "  g = sns.heatmap(pd.DataFrame(np.tril(cons_exp)), annot=True, cmap = \"viridis\", cbar=False)\n",
    "  g.set_xticklabels(x_ticks)\n",
    "  g.set_yticklabels(x_ticks)\n",
    "  plt.show()\n",
    "  p.index = p.index + 1\n",
    "  p.index = 'Crit-' + p.index.astype(str)\n",
    "  p['Cons Weights'] = p['Cons Weights'].astype(float).map(\"{:.2%}\".format)\n",
    "  p['Weights +/-'] = std\n",
    "  p['Weights +/-'] = p['Weights +/-'].astype(float).map(\"{:.2%}\".format)\n",
    "  print(p)\n",
    "  print(' ')\n",
    "  print('Consistency Ratio of Consolidated: {:.2%} \\nConsensus: {:.2%}'.format(cr, consensus))\n",
    "  return cons_exp, p, cr"
   ]
  },
  {
   "cell_type": "markdown",
   "id": "rNZEurq_NeEZ",
   "metadata": {
    "id": "rNZEurq_NeEZ"
   },
   "source": [
    "# Participant 1"
   ]
  },
  {
   "cell_type": "code",
   "execution_count": 21,
   "id": "e1daaae7",
   "metadata": {
    "colab": {
     "base_uri": "https://localhost:8080/",
     "height": 788
    },
    "id": "e1daaae7",
    "outputId": "1f455df5-64c2-421f-bc03-898515d6d9d9"
   },
   "outputs": [
    {
     "data": {
      "image/png": "[encoded data removed]",
      "text/plain": [
       "<Figure size 432x288 with 1 Axes>"
      ]
     },
     "metadata": {
      "needs_background": "light"
     },
     "output_type": "display_data"
    },
    {
     "data": {
      "image/png": "[encoded data removed]",
      "text/plain": [
       "<Figure size 432x288 with 1 Axes>"
      ]
     },
     "metadata": {
      "needs_background": "light"
     },
     "output_type": "display_data"
    },
    {
     "name": "stdout",
     "output_type": "stream",
     "text": [
      "        Weights Weights +/-    RGMM     +/-\n",
      "Crit-1   12.50%       4.33%  12.50%   4.42%\n",
      "Crit-2   14.00%      14.23%  13.46%   8.32%\n",
      "Crit-3   19.50%       8.07%  20.53%  11.13%\n",
      "Crit-4   10.50%       4.36%  10.43%   4.12%\n",
      "Crit-5    7.60%       5.58%   7.40%   3.68%\n",
      "Crit-6    5.40%       2.74%   5.39%   2.53%\n",
      "Crit-7    6.50%       2.99%   6.48%   2.86%\n",
      "Crit-8    5.50%       4.00%   5.36%   2.97%\n",
      "Crit-9    6.10%       3.26%   6.05%   2.60%\n",
      "Crit-10   8.30%       4.54%   8.54%   4.76%\n",
      "Crit-11   3.90%       1.15%   3.85%   1.20%\n",
      " \n",
      "Consistency Ratio: 10.33% & Consistency Ratio of Weighted: 10.20%\n"
     ]
    }
   ],
   "source": [
    "arr = [1, 1, 1, 3, 3, 1, 3, 3, 1, 3, 3, 1, 1, 1, 1, 1, 3, 3, 3, 3, 3, 3, 3, 6, 6, 3, 6, 3, 3, 1, 3, 1, 1, 3, 1, 1, 1, 1, 3, 3, 1, 0.333, 1, 1, 1, 1, 1, 0.333, 1, 0.333, 0.333, 1, 1, 1, 3]\n",
    "A1, weights, cr, rgmm1 = AHP_1_Participant(arr)"
   ]
  },
  {
   "cell_type": "markdown",
   "id": "848e103c",
   "metadata": {
    "id": "848e103c"
   },
   "source": [
    "# Participant 2"
   ]
  },
  {
   "cell_type": "code",
   "execution_count": 22,
   "id": "ec77413f",
   "metadata": {
    "colab": {
     "base_uri": "https://localhost:8080/",
     "height": 788
    },
    "id": "ec77413f",
    "outputId": "20dd1b2f-2ee2-463c-bb69-4790be6c5e6c"
   },
   "outputs": [
    {
     "data": {
      "image/png": "[encoded data removed]",
      "text/plain": [
       "<Figure size 432x288 with 1 Axes>"
      ]
     },
     "metadata": {
      "needs_background": "light"
     },
     "output_type": "display_data"
    },
    {
     "data": {
      "image/png": "[encoded data removed]",
      "text/plain": [
       "<Figure size 432x288 with 1 Axes>"
      ]
     },
     "metadata": {
      "needs_background": "light"
     },
     "output_type": "display_data"
    },
    {
     "name": "stdout",
     "output_type": "stream",
     "text": [
      "        Weights Weights +/-    RGMM     +/-\n",
      "Crit-1   12.50%       4.33%  12.50%   4.42%\n",
      "Crit-2   14.00%      14.23%  13.46%   8.32%\n",
      "Crit-3   19.50%       8.07%  20.53%  11.13%\n",
      "Crit-4   10.50%       4.36%  10.43%   4.12%\n",
      "Crit-5    7.60%       5.58%   7.40%   3.68%\n",
      "Crit-6    5.40%       2.74%   5.39%   2.53%\n",
      "Crit-7    6.50%       2.99%   6.48%   2.86%\n",
      "Crit-8    5.50%       4.00%   5.36%   2.97%\n",
      "Crit-9    6.10%       3.26%   6.05%   2.60%\n",
      "Crit-10   8.30%       4.54%   8.54%   4.76%\n",
      "Crit-11   3.90%       1.15%   3.85%   1.20%\n",
      " \n",
      "Consistency Ratio: 10.33% & Consistency Ratio of Weighted: 10.20%\n"
     ]
    }
   ],
   "source": [
    "arr = [1, 1, 1, 3, 3, 1, 3, 3, 1, 3, 3, 1, 1, 1, 1, 1, 3, 3, 3, 3, 3, 3, 3, 6, 6, 3, 6, 3, 3, 1, 3, 1, 1, 3, 1, 1, 1, 1, 3, 3, 1, 0.333, 1, 1, 1, 1, 1, 0.333, 1, 0.333, 0.333, 1, 1, 1, 3]\n",
    "A2, weights, cr, rgmm2 = AHP_1_Participant(arr)"
   ]
  },
  {
   "cell_type": "markdown",
   "id": "a8195c4b",
   "metadata": {
    "id": "a8195c4b"
   },
   "source": [
    "# Consolidated Weigths"
   ]
  },
  {
   "cell_type": "code",
   "execution_count": 23,
   "id": "2cbc3615",
   "metadata": {
    "colab": {
     "base_uri": "https://localhost:8080/",
     "height": 526
    },
    "id": "2cbc3615",
    "outputId": "06553100-8e31-4792-b05b-87318f80d0c6"
   },
   "outputs": [
    {
     "data": {
      "image/png": "[encoded data removed]",
      "text/plain": [
       "<Figure size 432x288 with 1 Axes>"
      ]
     },
     "metadata": {
      "needs_background": "light"
     },
     "output_type": "display_data"
    },
    {
     "name": "stdout",
     "output_type": "stream",
     "text": [
      "        Cons Weights Weights +/-\n",
      "Crit-1        12.53%       4.39%\n",
      "Crit-2        14.00%      13.44%\n",
      "Crit-3        19.54%       8.25%\n",
      "Crit-4        10.51%       4.59%\n",
      "Crit-5         7.65%       5.45%\n",
      "Crit-6         5.41%       2.83%\n",
      "Crit-7         6.49%       3.09%\n",
      "Crit-8         5.54%       4.10%\n",
      "Crit-9         6.15%       3.38%\n",
      "Crit-10        8.32%       4.60%\n",
      "Crit-11        3.86%       1.19%\n",
      " \n",
      "Consistency Ratio of Consolidated: 10.23% \n",
      "Consensus: 100.00%\n"
     ]
    }
   ],
   "source": [
    "cons_A, p, cr = AHP_Consolidated([A1, A2], [rgmm1, rgmm2])"
   ]
  },
  {
   "cell_type": "markdown",
   "id": "74LqgberSXZN",
   "metadata": {
    "id": "74LqgberSXZN"
   },
   "source": [
    "# One more example"
   ]
  },
  {
   "cell_type": "code",
   "execution_count": 24,
   "id": "da42c01b",
   "metadata": {
    "colab": {
     "base_uri": "https://localhost:8080/",
     "height": 1000
    },
    "id": "da42c01b",
    "outputId": "422aceb2-f3a8-4e2b-dc59-9bcf30be79ad"
   },
   "outputs": [
    {
     "data": {
      "image/png": "[encoded data removed]",
      "text/plain": [
       "<Figure size 432x288 with 1 Axes>"
      ]
     },
     "metadata": {
      "needs_background": "light"
     },
     "output_type": "display_data"
    },
    {
     "data": {
      "image/png": "[encoded data removed]",
      "text/plain": [
       "<Figure size 432x288 with 1 Axes>"
      ]
     },
     "metadata": {
      "needs_background": "light"
     },
     "output_type": "display_data"
    },
    {
     "name": "stdout",
     "output_type": "stream",
     "text": [
      "       Weights Weights +/-    RGMM    +/-\n",
      "Crit-1  44.30%       5.98%  44.34%  5.96%\n",
      "Crit-2  16.90%       2.28%  16.92%  2.27%\n",
      "Crit-3  38.70%       5.22%  38.74%  5.20%\n",
      " \n",
      "Consistency Ratio: 1.91% & Consistency Ratio of Weighted: 1.90%\n"
     ]
    },
    {
     "data": {
      "image/png": "[encoded data removed]",
      "text/plain": [
       "<Figure size 432x288 with 1 Axes>"
      ]
     },
     "metadata": {
      "needs_background": "light"
     },
     "output_type": "display_data"
    },
    {
     "data": {
      "image/png": "[encoded data removed]",
      "text/plain": [
       "<Figure size 432x288 with 1 Axes>"
      ]
     },
     "metadata": {
      "needs_background": "light"
     },
     "output_type": "display_data"
    },
    {
     "name": "stdout",
     "output_type": "stream",
     "text": [
      "       Weights Weights +/-    RGMM     +/-\n",
      "Crit-1  64.40%      53.98%  64.42%  46.89%\n",
      "Crit-2  27.10%      22.67%  27.06%  19.69%\n",
      "Crit-3   8.50%       7.14%   8.52%   6.20%\n",
      " \n",
      "Consistency Ratio: 95.65% & Consistency Ratio of Weighted: 95.60%\n"
     ]
    },
    {
     "data": {
      "image/png": "[encoded data removed]",
      "text/plain": [
       "<Figure size 432x288 with 1 Axes>"
      ]
     },
     "metadata": {
      "needs_background": "light"
     },
     "output_type": "display_data"
    },
    {
     "data": {
      "image/png": "[encoded data removed]",
      "text/plain": [
       "<Figure size 432x288 with 1 Axes>"
      ]
     },
     "metadata": {
      "needs_background": "light"
     },
     "output_type": "display_data"
    },
    {
     "name": "stdout",
     "output_type": "stream",
     "text": [
      "       Weights Weights +/-    RGMM     +/-\n",
      "Crit-1   8.90%       6.53%   8.90%   5.85%\n",
      "Crit-2  32.30%      23.72%  32.34%  21.27%\n",
      "Crit-3  58.80%      43.10%  58.76%  38.66%\n",
      " \n",
      "Consistency Ratio: 68.40% & Consistency Ratio of Weighted: 68.40%\n"
     ]
    },
    {
     "data": {
      "image/png": "[encoded data removed]",
      "text/plain": [
       "<Figure size 432x288 with 1 Axes>"
      ]
     },
     "metadata": {
      "needs_background": "light"
     },
     "output_type": "display_data"
    },
    {
     "name": "stdout",
     "output_type": "stream",
     "text": [
      "       Cons Weights Weights +/-\n",
      "Crit-1       36.38%       3.27%\n",
      "Crit-2       30.38%       2.73%\n",
      "Crit-3       33.24%       2.99%\n",
      " \n",
      "Consistency Ratio of Consolidated: 0.85% \n",
      "Consensus: 62.29%\n"
     ]
    }
   ],
   "source": [
    "A11, weights, cr, rgmm11 = AHP_1_Participant([3, 1, 1/2])\n",
    "A12, weights, cr, rgmm12 = AHP_1_Participant([6, 3, 8])\n",
    "A13, weights, cr, rgmm13 = AHP_1_Participant([1/8, 1/3, 1/4])\n",
    "\n",
    "cons_A, p, cr = AHP_Consolidated([A11, A12, A13], [rgmm11, rgmm12, rgmm13])"
   ]
  },
  {
   "cell_type": "code",
   "execution_count": null,
   "id": "2x1B41ZPSbLN",
   "metadata": {
    "id": "2x1B41ZPSbLN"
   },
   "outputs": [],
   "source": []
  }
 ],
 "metadata": {
  "colab": {
   "collapsed_sections": [],
   "name": "AHP Template.ipynb",
   "provenance": []
  },
  "kernelspec": {
   "display_name": "Python 3 (ipykernel)",
   "language": "python",
   "name": "python3"
  },
  "language_info": {
   "codemirror_mode": {
    "name": "ipython",
    "version": 3
   },
   "file_extension": ".py",
   "mimetype": "text/x-python",
   "name": "python",
   "nbconvert_exporter": "python",
   "pygments_lexer": "ipython3",
   "version": "3.8.16"
  }
 },
 "nbformat": 4,
 "nbformat_minor": 5
}
