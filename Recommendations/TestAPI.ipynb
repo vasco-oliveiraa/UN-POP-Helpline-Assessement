{
 "cells": [
  {
   "cell_type": "code",
   "execution_count": 1,
   "id": "3c34de3d-3a06-4be1-8280-7705d06e034c",
   "metadata": {},
   "outputs": [],
   "source": [
    "import os\n",
    "import requests\n",
    "import json\n",
    "from dotenv import load_dotenv\n",
    "\n",
    "def country_specific_recommendations(country, improvement_areas):\n",
    "    \n",
    "    # Get the absolute path of the current directory\n",
    "    current_dir = os.path.dirname(os.path.abspath(__file__))\n",
    "\n",
    "    # Specify the relative path to your .env file\n",
    "    dotenv_path = os.path.join(current_dir, \"..\", \".env\")\n",
    "\n",
    "    # Load environment variables from the .env file\n",
    "    load_dotenv(dotenv_path)\n",
    "\n",
    "    # Define the API endpoint\n",
    "    api_url = \"https://api.openai.com/v1/chat/completions\"\n",
    "\n",
    "    # Set your OpenAI API key\n",
    "    api_key = os.getenv(\"OPEN_AI_API_KEY\")\n",
    "\n",
    "    # Define the message input with the article summary\n",
    "    prompt = f\"\"\"\n",
    "    You are an expert in developing digital channels and helplines through which children can be safe with specific domain knowledge for {country}. Provide your top 5 recommendations in specific to this country's context to improve in these three areas: {improvement_areas}. Please return your recommendations as code  with the streamlit formatting below:\n",
    "    with st.expander(\"1. Recommendation 1 Title\"):\n",
    "        st.write(\"Recommendation 1 text\")\n",
    "    \"\"\"\n",
    "\n",
    "    # Define the API call payload\n",
    "    payload = {\n",
    "        \"model\": \"gpt-3.5-turbo\",\n",
    "        \"messages\": [{\"role\": \"user\", \"content\": prompt}],\n",
    "        \"max_tokens\": 100,\n",
    "        \"temperature\": 0.5,\n",
    "        # \"stop\": \"###\",\n",
    "        \"n\": 1,\n",
    "        # \"presence_penalty\": 0.6,\n",
    "        # \"frequency_penalty\": 0.2\n",
    "    }\n",
    "\n",
    "    # Make the API call\n",
    "    headers = {\n",
    "        \"Content-Type\": \"application/json\",\n",
    "        \"Authorization\": f\"Bearer {api_key}\",\n",
    "    }\n",
    "\n",
    "    response = requests.post(api_url, headers=headers, json=payload)\n",
    "\n",
    "    # Parse and print the generated message\n",
    "    data = response.json()\n",
    "    message = data[\"choices\"][0][\"message\"][\"content\"]\n",
    "    \n",
    "    return message"
   ]
  },
  {
   "cell_type": "code",
   "execution_count": null,
   "id": "451a435b-46de-4e01-8a84-be8218045d2a",
   "metadata": {},
   "outputs": [],
   "source": []
  }
 ],
 "metadata": {
  "kernelspec": {
   "display_name": "MBD",
   "language": "python",
   "name": "mbd"
  },
  "language_info": {
   "codemirror_mode": {
    "name": "ipython",
    "version": 3
   },
   "file_extension": ".py",
   "mimetype": "text/x-python",
   "name": "python",
   "nbconvert_exporter": "python",
   "pygments_lexer": "ipython3",
   "version": "3.8.16"
  }
 },
 "nbformat": 4,
 "nbformat_minor": 5
}
